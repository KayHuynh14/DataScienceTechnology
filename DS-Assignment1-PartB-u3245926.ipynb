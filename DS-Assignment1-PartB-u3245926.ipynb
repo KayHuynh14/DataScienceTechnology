{
 "cells": [
  {
   "cell_type": "markdown",
   "id": "8d5fd1c8",
   "metadata": {},
   "source": [
    "# Assignment – 1\n",
    "### Predictive Modelling of Eating-Out problem\n",
    "Student name: Kay Huynh\n",
    "Student ID: u3245926"
   ]
  },
  {
   "cell_type": "markdown",
   "id": "a1c54102",
   "metadata": {},
   "source": [
    "### Part B – Predictive Modelling"
   ]
  },
  {
   "cell_type": "markdown",
   "id": "156c692f",
   "metadata": {},
   "source": [
    "#### I. Feature Engineering:"
   ]
  },
  {
   "cell_type": "code",
   "execution_count": 408,
   "id": "17a30354",
   "metadata": {},
   "outputs": [],
   "source": [
    "# Import packages\n",
    "import pandas as pd\n",
    "import matplotlib.pyplot as plt\n",
    "import seaborn as sns\n",
    "import numpy as np\n",
    "import os"
   ]
  },
  {
   "cell_type": "markdown",
   "id": "ff829820",
   "metadata": {},
   "source": [
    "##### 1. Perform data cleaning to remove/impute any records that are useless in the predictive task (such as NA, NaN, etc.)"
   ]
  },
  {
   "cell_type": "code",
   "execution_count": 409,
   "id": "1406d173",
   "metadata": {},
   "outputs": [
    {
     "data": {
      "text/html": [
       "<div>\n",
       "<style scoped>\n",
       "    .dataframe tbody tr th:only-of-type {\n",
       "        vertical-align: middle;\n",
       "    }\n",
       "\n",
       "    .dataframe tbody tr th {\n",
       "        vertical-align: top;\n",
       "    }\n",
       "\n",
       "    .dataframe thead th {\n",
       "        text-align: right;\n",
       "    }\n",
       "</style>\n",
       "<table border=\"1\" class=\"dataframe\">\n",
       "  <thead>\n",
       "    <tr style=\"text-align: right;\">\n",
       "      <th></th>\n",
       "      <th>address</th>\n",
       "      <th>cost</th>\n",
       "      <th>cuisine</th>\n",
       "      <th>lat</th>\n",
       "      <th>link</th>\n",
       "      <th>lng</th>\n",
       "      <th>phone</th>\n",
       "      <th>rating_number</th>\n",
       "      <th>rating_text</th>\n",
       "      <th>subzone</th>\n",
       "      <th>title</th>\n",
       "      <th>type</th>\n",
       "      <th>votes</th>\n",
       "      <th>groupon</th>\n",
       "      <th>color</th>\n",
       "      <th>cost_2</th>\n",
       "      <th>cuisine_color</th>\n",
       "    </tr>\n",
       "  </thead>\n",
       "  <tbody>\n",
       "    <tr>\n",
       "      <th>0</th>\n",
       "      <td>371A Pitt Street, CBD, Sydney</td>\n",
       "      <td>50.0</td>\n",
       "      <td>['Hot Pot', 'Korean BBQ', 'BBQ', 'Korean']</td>\n",
       "      <td>-33.876059</td>\n",
       "      <td>https://www.zomato.com/sydney/sydney-madang-cbd</td>\n",
       "      <td>151.207605</td>\n",
       "      <td>02 8318 0406</td>\n",
       "      <td>4.0</td>\n",
       "      <td>Very Good</td>\n",
       "      <td>CBD</td>\n",
       "      <td>Sydney Madang</td>\n",
       "      <td>['Casual Dining']</td>\n",
       "      <td>1311.0</td>\n",
       "      <td>False</td>\n",
       "      <td>#e15307</td>\n",
       "      <td>5.243902</td>\n",
       "      <td>#6f706b</td>\n",
       "    </tr>\n",
       "    <tr>\n",
       "      <th>1</th>\n",
       "      <td>Shop 7A, 2 Huntley Street, Alexandria, Sydney</td>\n",
       "      <td>80.0</td>\n",
       "      <td>['Cafe', 'Coffee and Tea', 'Salad', 'Poké']</td>\n",
       "      <td>-33.910999</td>\n",
       "      <td>https://www.zomato.com/sydney/the-grounds-of-a...</td>\n",
       "      <td>151.193793</td>\n",
       "      <td>02 9699 2225</td>\n",
       "      <td>4.6</td>\n",
       "      <td>Excellent</td>\n",
       "      <td>The Grounds of Alexandria, Alexandria</td>\n",
       "      <td>The Grounds of Alexandria Cafe</td>\n",
       "      <td>['Café']</td>\n",
       "      <td>3236.0</td>\n",
       "      <td>False</td>\n",
       "      <td>#9c3203</td>\n",
       "      <td>7.560976</td>\n",
       "      <td>#6f706b</td>\n",
       "    </tr>\n",
       "    <tr>\n",
       "      <th>2</th>\n",
       "      <td>Level G, The Darling at the Star, 80 Pyrmont ...</td>\n",
       "      <td>120.0</td>\n",
       "      <td>['Japanese']</td>\n",
       "      <td>-33.867971</td>\n",
       "      <td>https://www.zomato.com/sydney/sokyo-pyrmont</td>\n",
       "      <td>151.195210</td>\n",
       "      <td>1800 700 700</td>\n",
       "      <td>4.9</td>\n",
       "      <td>Excellent</td>\n",
       "      <td>The Star, Pyrmont</td>\n",
       "      <td>Sokyo</td>\n",
       "      <td>['Fine Dining']</td>\n",
       "      <td>1227.0</td>\n",
       "      <td>False</td>\n",
       "      <td>#7f2704</td>\n",
       "      <td>10.650407</td>\n",
       "      <td>#6f706b</td>\n",
       "    </tr>\n",
       "    <tr>\n",
       "      <th>3</th>\n",
       "      <td>Sydney Opera House, Bennelong Point, Circular...</td>\n",
       "      <td>270.0</td>\n",
       "      <td>['Modern Australian']</td>\n",
       "      <td>-33.856784</td>\n",
       "      <td>https://www.zomato.com/sydney/bennelong-restau...</td>\n",
       "      <td>151.215297</td>\n",
       "      <td>02 9240 8000</td>\n",
       "      <td>4.9</td>\n",
       "      <td>Excellent</td>\n",
       "      <td>Circular Quay</td>\n",
       "      <td>Bennelong Restaurant</td>\n",
       "      <td>['Fine Dining', 'Bar']</td>\n",
       "      <td>278.0</td>\n",
       "      <td>False</td>\n",
       "      <td>#7f2704</td>\n",
       "      <td>22.235772</td>\n",
       "      <td>#4186f4</td>\n",
       "    </tr>\n",
       "    <tr>\n",
       "      <th>4</th>\n",
       "      <td>20 Campbell Street, Chinatown, Sydney</td>\n",
       "      <td>55.0</td>\n",
       "      <td>['Thai', 'Salad']</td>\n",
       "      <td>-33.879035</td>\n",
       "      <td>https://www.zomato.com/sydney/chat-thai-chinatown</td>\n",
       "      <td>151.206409</td>\n",
       "      <td>02 8317 4811</td>\n",
       "      <td>4.5</td>\n",
       "      <td>Excellent</td>\n",
       "      <td>Chinatown</td>\n",
       "      <td>Chat Thai</td>\n",
       "      <td>['Casual Dining']</td>\n",
       "      <td>2150.0</td>\n",
       "      <td>False</td>\n",
       "      <td>#a83703</td>\n",
       "      <td>5.630081</td>\n",
       "      <td>#6f706b</td>\n",
       "    </tr>\n",
       "  </tbody>\n",
       "</table>\n",
       "</div>"
      ],
      "text/plain": [
       "                                             address   cost  \\\n",
       "0                      371A Pitt Street, CBD, Sydney   50.0   \n",
       "1      Shop 7A, 2 Huntley Street, Alexandria, Sydney   80.0   \n",
       "2   Level G, The Darling at the Star, 80 Pyrmont ...  120.0   \n",
       "3   Sydney Opera House, Bennelong Point, Circular...  270.0   \n",
       "4              20 Campbell Street, Chinatown, Sydney   55.0   \n",
       "\n",
       "                                       cuisine        lat  \\\n",
       "0   ['Hot Pot', 'Korean BBQ', 'BBQ', 'Korean'] -33.876059   \n",
       "1  ['Cafe', 'Coffee and Tea', 'Salad', 'Poké'] -33.910999   \n",
       "2                                 ['Japanese'] -33.867971   \n",
       "3                        ['Modern Australian'] -33.856784   \n",
       "4                            ['Thai', 'Salad'] -33.879035   \n",
       "\n",
       "                                                link         lng  \\\n",
       "0    https://www.zomato.com/sydney/sydney-madang-cbd  151.207605   \n",
       "1  https://www.zomato.com/sydney/the-grounds-of-a...  151.193793   \n",
       "2        https://www.zomato.com/sydney/sokyo-pyrmont  151.195210   \n",
       "3  https://www.zomato.com/sydney/bennelong-restau...  151.215297   \n",
       "4  https://www.zomato.com/sydney/chat-thai-chinatown  151.206409   \n",
       "\n",
       "          phone  rating_number rating_text  \\\n",
       "0  02 8318 0406            4.0   Very Good   \n",
       "1  02 9699 2225            4.6   Excellent   \n",
       "2  1800 700 700            4.9   Excellent   \n",
       "3  02 9240 8000            4.9   Excellent   \n",
       "4  02 8317 4811            4.5   Excellent   \n",
       "\n",
       "                                 subzone                           title  \\\n",
       "0                                    CBD                   Sydney Madang   \n",
       "1  The Grounds of Alexandria, Alexandria  The Grounds of Alexandria Cafe   \n",
       "2                      The Star, Pyrmont                           Sokyo   \n",
       "3                          Circular Quay            Bennelong Restaurant   \n",
       "4                              Chinatown                       Chat Thai   \n",
       "\n",
       "                     type   votes  groupon    color     cost_2 cuisine_color  \n",
       "0       ['Casual Dining']  1311.0    False  #e15307   5.243902       #6f706b  \n",
       "1                ['Café']  3236.0    False  #9c3203   7.560976       #6f706b  \n",
       "2         ['Fine Dining']  1227.0    False  #7f2704  10.650407       #6f706b  \n",
       "3  ['Fine Dining', 'Bar']   278.0    False  #7f2704  22.235772       #4186f4  \n",
       "4       ['Casual Dining']  2150.0    False  #a83703   5.630081       #6f706b  "
      ]
     },
     "execution_count": 409,
     "metadata": {},
     "output_type": "execute_result"
    }
   ],
   "source": [
    "# Read data\n",
    "data= pd.read_csv('data\\zomato_df_final_data.csv')\n",
    "data.head()"
   ]
  },
  {
   "cell_type": "code",
   "execution_count": 410,
   "id": "b314447a",
   "metadata": {},
   "outputs": [],
   "source": [
    "#Deleting Unnnecessary Columns\n",
    "data=data.drop(['link','color','phone','cuisine_color','address','lat','lng'],axis=1) "
   ]
  },
  {
   "cell_type": "code",
   "execution_count": 411,
   "id": "91f9e371",
   "metadata": {},
   "outputs": [],
   "source": [
    "# Cuisine column processing \n",
    "data['cuisine'] = data['cuisine'].str.split(', ')\n",
    "restaurant_df = data.explode(\"cuisine\").reset_index(drop=True)\n",
    "restaurant_df['cuisine'] = restaurant_df['cuisine'].astype(str)\n",
    "restaurant_df['cuisine'] = restaurant_df['cuisine'].str.replace('[', '')\n",
    "restaurant_df['cuisine'] = restaurant_df['cuisine'].str.replace(\"'\", '')\n",
    "restaurant_df['cuisine'] = restaurant_df['cuisine'].str.replace(\"]\", '')"
   ]
  },
  {
   "cell_type": "code",
   "execution_count": 412,
   "id": "4e644dc0",
   "metadata": {},
   "outputs": [],
   "source": [
    "# type column processing \n",
    "restaurant_df['type'] = restaurant_df ['type'].str.split(', ')\n",
    "restaurant_df = restaurant_df.explode(\"type\").reset_index(drop=True)\n",
    "restaurant_df['type'] = restaurant_df['type'].astype(str)\n",
    "restaurant_df['type'] = restaurant_df['type'].str.replace('[', '')\n",
    "restaurant_df['type'] = restaurant_df['type'].str.replace(\"'\", '')\n",
    "restaurant_df['type'] = restaurant_df['type'].str.replace(\"]\", '')"
   ]
  },
  {
   "cell_type": "markdown",
   "id": "52664dbf",
   "metadata": {},
   "source": [
    "##### Exploratory data analysis"
   ]
  },
  {
   "cell_type": "code",
   "execution_count": 413,
   "id": "3e7acf4c",
   "metadata": {},
   "outputs": [
    {
     "name": "stdout",
     "output_type": "stream",
     "text": [
      "(18644, 10)\n",
      "Index(['cost', 'cuisine', 'rating_number', 'rating_text', 'subzone', 'title',\n",
      "       'type', 'votes', 'groupon', 'cost_2'],\n",
      "      dtype='object')\n"
     ]
    }
   ],
   "source": [
    "# data shape\n",
    "print(restaurant_df.shape)\n",
    "# column names\n",
    "print(restaurant_df.columns)"
   ]
  },
  {
   "cell_type": "code",
   "execution_count": 414,
   "id": "d1bbc538",
   "metadata": {},
   "outputs": [
    {
     "name": "stdout",
     "output_type": "stream",
     "text": [
      "<class 'pandas.core.frame.DataFrame'>\n",
      "RangeIndex: 18644 entries, 0 to 18643\n",
      "Data columns (total 10 columns):\n",
      " #   Column         Non-Null Count  Dtype  \n",
      "---  ------         --------------  -----  \n",
      " 0   cost           18060 non-null  float64\n",
      " 1   cuisine        18644 non-null  object \n",
      " 2   rating_number  13240 non-null  float64\n",
      " 3   rating_text    13240 non-null  object \n",
      " 4   subzone        18644 non-null  object \n",
      " 5   title          18644 non-null  object \n",
      " 6   type           18644 non-null  object \n",
      " 7   votes          13240 non-null  float64\n",
      " 8   groupon        18644 non-null  bool   \n",
      " 9   cost_2         18060 non-null  float64\n",
      "dtypes: bool(1), float64(4), object(5)\n",
      "memory usage: 1.3+ MB\n",
      "None\n"
     ]
    }
   ],
   "source": [
    "# summary of dataset\n",
    "print(restaurant_df.info())"
   ]
  },
  {
   "cell_type": "code",
   "execution_count": 415,
   "id": "f644b180",
   "metadata": {},
   "outputs": [
    {
     "data": {
      "text/plain": [
       "cost              584\n",
       "cuisine             0\n",
       "rating_number    5404\n",
       "rating_text      5404\n",
       "subzone             0\n",
       "title               0\n",
       "type                0\n",
       "votes            5404\n",
       "groupon             0\n",
       "cost_2            584\n",
       "dtype: int64"
      ]
     },
     "execution_count": 415,
     "metadata": {},
     "output_type": "execute_result"
    }
   ],
   "source": [
    "# summary of missing value in dataset\n",
    "count_missing_df = restaurant_df.isna().sum()\n",
    "count_missing_df"
   ]
  },
  {
   "cell_type": "code",
   "execution_count": 416,
   "id": "56c0e8db",
   "metadata": {},
   "outputs": [
    {
     "name": "stdout",
     "output_type": "stream",
     "text": [
      "(13240, 10)\n"
     ]
    }
   ],
   "source": [
    "# check if the target variable has any na/null values\n",
    "restaurant_df = restaurant_df[restaurant_df['rating_number'].notna()]\n",
    "print(restaurant_df.shape)"
   ]
  },
  {
   "cell_type": "code",
   "execution_count": 417,
   "id": "f819c446",
   "metadata": {},
   "outputs": [
    {
     "name": "stdout",
     "output_type": "stream",
     "text": [
      "There are 5 categorical variables\n",
      "\n",
      "The categorical variables are:  ['cuisine', 'rating_text', 'subzone', 'title', 'type']\n"
     ]
    },
    {
     "data": {
      "text/html": [
       "<div>\n",
       "<style scoped>\n",
       "    .dataframe tbody tr th:only-of-type {\n",
       "        vertical-align: middle;\n",
       "    }\n",
       "\n",
       "    .dataframe tbody tr th {\n",
       "        vertical-align: top;\n",
       "    }\n",
       "\n",
       "    .dataframe thead th {\n",
       "        text-align: right;\n",
       "    }\n",
       "</style>\n",
       "<table border=\"1\" class=\"dataframe\">\n",
       "  <thead>\n",
       "    <tr style=\"text-align: right;\">\n",
       "      <th></th>\n",
       "      <th>cuisine</th>\n",
       "      <th>rating_text</th>\n",
       "      <th>subzone</th>\n",
       "      <th>title</th>\n",
       "      <th>type</th>\n",
       "    </tr>\n",
       "  </thead>\n",
       "  <tbody>\n",
       "    <tr>\n",
       "      <th>0</th>\n",
       "      <td>Hot Pot</td>\n",
       "      <td>Very Good</td>\n",
       "      <td>CBD</td>\n",
       "      <td>Sydney Madang</td>\n",
       "      <td>Casual Dining</td>\n",
       "    </tr>\n",
       "    <tr>\n",
       "      <th>1</th>\n",
       "      <td>Korean BBQ</td>\n",
       "      <td>Very Good</td>\n",
       "      <td>CBD</td>\n",
       "      <td>Sydney Madang</td>\n",
       "      <td>Casual Dining</td>\n",
       "    </tr>\n",
       "    <tr>\n",
       "      <th>2</th>\n",
       "      <td>BBQ</td>\n",
       "      <td>Very Good</td>\n",
       "      <td>CBD</td>\n",
       "      <td>Sydney Madang</td>\n",
       "      <td>Casual Dining</td>\n",
       "    </tr>\n",
       "    <tr>\n",
       "      <th>3</th>\n",
       "      <td>Korean</td>\n",
       "      <td>Very Good</td>\n",
       "      <td>CBD</td>\n",
       "      <td>Sydney Madang</td>\n",
       "      <td>Casual Dining</td>\n",
       "    </tr>\n",
       "    <tr>\n",
       "      <th>4</th>\n",
       "      <td>Cafe</td>\n",
       "      <td>Excellent</td>\n",
       "      <td>The Grounds of Alexandria, Alexandria</td>\n",
       "      <td>The Grounds of Alexandria Cafe</td>\n",
       "      <td>Café</td>\n",
       "    </tr>\n",
       "  </tbody>\n",
       "</table>\n",
       "</div>"
      ],
      "text/plain": [
       "      cuisine rating_text                                subzone  \\\n",
       "0     Hot Pot   Very Good                                    CBD   \n",
       "1  Korean BBQ   Very Good                                    CBD   \n",
       "2         BBQ   Very Good                                    CBD   \n",
       "3      Korean   Very Good                                    CBD   \n",
       "4        Cafe   Excellent  The Grounds of Alexandria, Alexandria   \n",
       "\n",
       "                            title           type  \n",
       "0                   Sydney Madang  Casual Dining  \n",
       "1                   Sydney Madang  Casual Dining  \n",
       "2                   Sydney Madang  Casual Dining  \n",
       "3                   Sydney Madang  Casual Dining  \n",
       "4  The Grounds of Alexandria Cafe           Café  "
      ]
     },
     "execution_count": 417,
     "metadata": {},
     "output_type": "execute_result"
    }
   ],
   "source": [
    "# Explore categorical variables\n",
    "# types of variables\n",
    "# categrical variables\n",
    "categorical = [var for var in restaurant_df.columns if restaurant_df[var].dtype=='O']\n",
    "print(\"There are {} categorical variables\\n\".format(len(categorical)))\n",
    "print(\"The categorical variables are: \", categorical)\n",
    "restaurant_df[categorical].head()"
   ]
  },
  {
   "cell_type": "code",
   "execution_count": 418,
   "id": "4fd866ff",
   "metadata": {},
   "outputs": [
    {
     "name": "stdout",
     "output_type": "stream",
     "text": [
      "cuisine\n",
      "Cafe                 2306\n",
      "Modern Australian    1009\n",
      "Italian               767\n",
      "Pizza                 607\n",
      "Chinese               596\n",
      "                     ... \n",
      "Pastry                  1\n",
      "Kiwi                    1\n",
      "Russian                 1\n",
      "Ethiopian               1\n",
      "Czech                   1\n",
      "Name: count, Length: 128, dtype: int64\n",
      "rating_text\n",
      "Average      7889\n",
      "Good         3767\n",
      "Very Good    1062\n",
      "Poor          395\n",
      "Excellent     127\n",
      "Name: count, dtype: int64\n",
      "subzone\n",
      "CBD                                       717\n",
      "Surry Hills                               444\n",
      "Newtown                                   302\n",
      "Darlinghurst                              287\n",
      "Parramatta                                281\n",
      "                                         ... \n",
      "Circular Quay Wharf, CBD                    1\n",
      "Macquarie Fields                            1\n",
      "Dee Why Grand Shopping Centre, Dee Why      1\n",
      "The Light Brigade Hotel, Woollahra          1\n",
      "Jenolan                                     1\n",
      "Name: count, Length: 520, dtype: int64\n",
      "title\n",
      "Meet Mica                   16\n",
      "Kin Senn                    16\n",
      "Coogee Pavilion             14\n",
      "Platform No. 8              12\n",
      "Jasmin1                     10\n",
      "                            ..\n",
      "Oporto                       1\n",
      "Cafe Banter                  1\n",
      "Bondi Massive                1\n",
      "Bonditony's Burger Joint     1\n",
      "Enjoy Mie                    1\n",
      "Name: count, Length: 7152, dtype: int64\n",
      "type\n",
      "Casual Dining      6963\n",
      "Café               3400\n",
      "Bar                 866\n",
      "Fast Food           488\n",
      "Pub                 418\n",
      "Food Court          390\n",
      "Bakery              217\n",
      "Fine Dining         161\n",
      "Wine Bar            155\n",
      "Dessert Parlour     114\n",
      "nan                  35\n",
      "Beverage Shop        12\n",
      "Food Truck           11\n",
      "Club                 10\n",
      "Name: count, dtype: int64\n"
     ]
    }
   ],
   "source": [
    "# get the frequency counts of the categorical variables\n",
    "for var in categorical:\n",
    "    print(restaurant_df[var].value_counts())"
   ]
  },
  {
   "cell_type": "code",
   "execution_count": 419,
   "id": "695b5646",
   "metadata": {},
   "outputs": [
    {
     "name": "stdout",
     "output_type": "stream",
     "text": [
      "cuisine\n",
      "Cafe                 0.174169\n",
      "Modern Australian    0.076208\n",
      "Italian              0.057931\n",
      "Pizza                0.045846\n",
      "Chinese              0.045015\n",
      "                       ...   \n",
      "Pastry               0.000076\n",
      "Kiwi                 0.000076\n",
      "Russian              0.000076\n",
      "Ethiopian            0.000076\n",
      "Czech                0.000076\n",
      "Name: count, Length: 128, dtype: float64\n",
      "rating_text\n",
      "Average      0.595846\n",
      "Good         0.284517\n",
      "Very Good    0.080211\n",
      "Poor         0.029834\n",
      "Excellent    0.009592\n",
      "Name: count, dtype: float64\n",
      "subzone\n",
      "CBD                                       0.054154\n",
      "Surry Hills                               0.033535\n",
      "Newtown                                   0.022810\n",
      "Darlinghurst                              0.021677\n",
      "Parramatta                                0.021224\n",
      "                                            ...   \n",
      "Circular Quay Wharf, CBD                  0.000076\n",
      "Macquarie Fields                          0.000076\n",
      "Dee Why Grand Shopping Centre, Dee Why    0.000076\n",
      "The Light Brigade Hotel, Woollahra        0.000076\n",
      "Jenolan                                   0.000076\n",
      "Name: count, Length: 520, dtype: float64\n",
      "title\n",
      "Meet Mica                   0.001208\n",
      "Kin Senn                    0.001208\n",
      "Coogee Pavilion             0.001057\n",
      "Platform No. 8              0.000906\n",
      "Jasmin1                     0.000755\n",
      "                              ...   \n",
      "Oporto                      0.000076\n",
      "Cafe Banter                 0.000076\n",
      "Bondi Massive               0.000076\n",
      "Bonditony's Burger Joint    0.000076\n",
      "Enjoy Mie                   0.000076\n",
      "Name: count, Length: 7152, dtype: float64\n",
      "type\n",
      "Casual Dining      0.525906\n",
      "Café               0.256798\n",
      "Bar                0.065408\n",
      "Fast Food          0.036858\n",
      "Pub                0.031571\n",
      "Food Court         0.029456\n",
      "Bakery             0.016390\n",
      "Fine Dining        0.012160\n",
      "Wine Bar           0.011707\n",
      "Dessert Parlour    0.008610\n",
      "nan                0.002644\n",
      "Beverage Shop      0.000906\n",
      "Food Truck         0.000831\n",
      "Club               0.000755\n",
      "Name: count, dtype: float64\n"
     ]
    }
   ],
   "source": [
    "# get the percentages in each of the categorical variables\n",
    "for var in categorical:\n",
    "    print(restaurant_df[var].value_counts() / restaurant_df.shape[0])"
   ]
  },
  {
   "cell_type": "code",
   "execution_count": 420,
   "id": "00cd6216",
   "metadata": {},
   "outputs": [],
   "source": [
    "# a function to explore each of the categorical variables\n",
    "def explore_categorical(df, var):\n",
    "    # check if the variable has any missing values\n",
    "    print('********** missing values **********')\n",
    "    print(df[var].isnull().sum())\n",
    "    print('********** Labels **********')\n",
    "    # check unique lables in variable\n",
    "    print(df[var].unique())\n",
    "    print('********** frequency **********')\n",
    "    # check frequency of each variable\n",
    "    print(df[var].value_counts())"
   ]
  },
  {
   "cell_type": "code",
   "execution_count": 421,
   "id": "b4f3337e",
   "metadata": {},
   "outputs": [
    {
     "name": "stdout",
     "output_type": "stream",
     "text": [
      "********** missing values **********\n",
      "0\n",
      "********** Labels **********\n",
      "['Hot Pot' 'Korean BBQ' 'BBQ' 'Korean' 'Cafe' 'Coffee and Tea' 'Salad'\n",
      " 'Poké' 'Japanese' 'Modern Australian' 'Thai' 'Desserts' 'Cantonese'\n",
      " 'Chinese' 'Yum Cha' 'Sushi' 'Ramen' 'Malaysian' 'Taiwanese' 'Seafood'\n",
      " 'Asian' 'Italian' 'Steak' 'French' 'Singaporean' 'European' 'Mexican'\n",
      " 'Bar Food' 'American' 'Burger' 'Lebanese' 'Bakery' 'Grill' 'Pizza'\n",
      " 'Vietnamese' 'Cuban' 'Latin American' 'Irish' 'Healthy Food' 'Australian'\n",
      " 'Fusion' 'Patisserie' 'Juices' 'Vegetarian' 'Japanese BBQ' 'Spanish'\n",
      " 'Dumplings' 'Indonesian' 'Indian' 'Tapas' 'Turkish' 'Vegan' 'Shanghai'\n",
      " 'Tea' 'Caribbean' 'Sandwich' 'Fast Food' 'Middle Eastern' 'German'\n",
      " 'Mediterranean' 'Pho' 'Greek' 'Beverages' 'Kebab' 'Fish and Chips'\n",
      " 'Moroccan' 'Pakistani' 'Sri Lankan' 'Pub Food' 'Contemporary' 'Teriyaki'\n",
      " 'Meat Pie' 'British' 'Brasserie' 'Belgian' 'Austrian' 'Hungarian' 'Swiss'\n",
      " 'Charcoal Chicken' 'Brazilian' 'African' 'Israeli' 'Sichuan'\n",
      " 'Street Food' 'Portuguese' 'Crepes' 'Filipino' 'Arabian' 'Falafel'\n",
      " 'Bangladeshi' 'Nepalese' 'Eastern European' 'Modern European' 'Satay'\n",
      " 'Deli' 'Kiwi' 'Teppanyaki' 'Ice Cream' 'Iranian' 'Scandinavian' 'Polish'\n",
      " 'Afghani' 'Continental' 'Egyptian' 'Finger Food' 'Tibetan' 'Argentine'\n",
      " 'Oriental' 'Tex-Mex' 'Burmese' 'Creole' 'Bubble Tea' 'Hawaiian'\n",
      " 'Soul Food' 'Peruvian' 'Diner' 'Cambodian' 'Drinks Only' 'Syrian' 'Iraqi'\n",
      " 'Croatian' 'Swedish' 'Frozen Yogurt' 'Pastry' 'International' 'Russian'\n",
      " 'Ethiopian' 'Czech']\n",
      "********** frequency **********\n",
      "cuisine\n",
      "Cafe                 2306\n",
      "Modern Australian    1009\n",
      "Italian               767\n",
      "Pizza                 607\n",
      "Chinese               596\n",
      "                     ... \n",
      "Pastry                  1\n",
      "Kiwi                    1\n",
      "Russian                 1\n",
      "Ethiopian               1\n",
      "Czech                   1\n",
      "Name: count, Length: 128, dtype: int64\n"
     ]
    }
   ],
   "source": [
    "explore_categorical(restaurant_df, 'cuisine')"
   ]
  },
  {
   "cell_type": "code",
   "execution_count": 422,
   "id": "04bc1dd1",
   "metadata": {},
   "outputs": [
    {
     "name": "stdout",
     "output_type": "stream",
     "text": [
      "********** missing values **********\n",
      "0\n",
      "********** Labels **********\n",
      "['Very Good' 'Excellent' 'Good' 'Average' 'Poor']\n",
      "********** frequency **********\n",
      "rating_text\n",
      "Average      7889\n",
      "Good         3767\n",
      "Very Good    1062\n",
      "Poor          395\n",
      "Excellent     127\n",
      "Name: count, dtype: int64\n"
     ]
    }
   ],
   "source": [
    "explore_categorical(restaurant_df, 'rating_text')"
   ]
  },
  {
   "cell_type": "code",
   "execution_count": 423,
   "id": "818c3758",
   "metadata": {},
   "outputs": [
    {
     "name": "stdout",
     "output_type": "stream",
     "text": [
      "********** missing values **********\n",
      "0\n",
      "********** Labels **********\n",
      "['CBD' 'The Grounds of Alexandria, Alexandria' 'The Star, Pyrmont'\n",
      " 'Circular Quay' 'Chinatown' 'Kensington Street, Chippendale'\n",
      " 'Establishment, CBD' 'Surry Hills' 'The Rocks Centre, The Rocks '\n",
      " 'Westfield Pitt Street Mall, CBD' 'The Rocks'\n",
      " 'World Square Shopping Centre, CBD' 'Darling Park, Darling Harbour'\n",
      " 'SkyView Shopping Plaza, CBD' 'Parramatta' 'Pyrmont'\n",
      " 'Harbourside Shopping Centre, Darling Harbour' 'Ivy, CBD'\n",
      " 'Regent Place Arcade, CBD' 'Newtown' 'The Galeries, CBD' 'Granville'\n",
      " 'Potts Point' 'Woolloomooloo' 'Darling Harbour' 'Strathfield'\n",
      " 'Darlinghurst' 'Wintergarden, CBD' 'Alexandria' 'Crows Nest'\n",
      " 'Harbour Plaza, Chinatown' 'Westfield Chatswood, Chatswood' 'Ashfield'\n",
      " 'Haberfield' 'Annandale' 'Chatswood' 'Chatswood Interchange, Chatswood'\n",
      " 'The Strand Arcade, CBD' 'Glebe' 'Enmore' 'Redfern' 'Bronte'\n",
      " 'Chippendale' 'Cabramatta' 'Rhodes' 'Icebergs, Bondi Beach' 'Bondi Beach'\n",
      " 'Burwood' 'Macquarie Park' 'Erskineville' 'Kirribilli'\n",
      " 'Macquarie Centre, Macquarie Park' 'Woollahra' 'Bankstown' 'Marrickville'\n",
      " 'Hilton Sydney, CBD' 'West Ryde' 'Manly Wharf, Manly' 'Petersham'\n",
      " 'Rose Bay' 'Cammeray' 'Palm Beach' 'Canley Heights'\n",
      " 'Rhodes Waterside, Rhodes' 'Radisson Blu Plaza Hotel CBD'\n",
      " 'Wetherill Park' 'Castle Hill' 'Lane Cove' 'Coogee Pavilion, Coogee'\n",
      " 'Waterloo' 'North Sydney' \"The Bathers' Pavilion, Mosman\"\n",
      " 'The Quadrant, Ultimo' 'Dural' 'Ultimo' 'Balmain' 'Cockle Bay Wharf '\n",
      " 'Dulwich Hill' 'Freshwater' 'Kingsford' 'Brighton-Le-Sands'\n",
      " 'Bondi Junction' 'Barangaroo' 'Kensington' 'Prince Centre, Chinatown'\n",
      " 'Market City, Chinatown' 'Eastwood' 'QT Sydney, CBD' 'Mosman'\n",
      " 'Shangri-la Hotel, The Rocks' 'Milsons Point' 'St Leonards'\n",
      " 'Sydney Fish Market, Pyrmont' 'Chifley Plaza, CBD' 'Campsie' 'Canterbury'\n",
      " 'Drummoyne' 'Smithfield' \"D'Albora Marinas, Mosman\" 'Rosebery'\n",
      " 'Botany Bay' 'QVB, CBD' 'Paddington' 'Concord' 'Watsons Bay'\n",
      " 'Canley Vale' 'Stanmore' 'Randwick' 'Cronulla' 'Camperdown'\n",
      " 'The Republic Hotel, CBD' 'East Village Shopping Centre, Zetland'\n",
      " 'Leichhardt' 'Park Hyatt, The Rocks' 'Liverpool' 'Double Bay'\n",
      " 'North Strathfield' 'The Eastern Hotel, Bondi Junction' 'Hurstville'\n",
      " 'Gladesville' 'Sydney Central, Chinatown '\n",
      " 'Darling Quarter, Darling Harbour' 'Cremorne' 'Neutral Bay' 'Mascot'\n",
      " 'The Cannery Rosebery' 'Wahroonga' 'McMahons Point' 'Greenacre'\n",
      " 'GPO Grand, CBD' 'Manly' 'Maroubra' 'InterContinental Sydney, CBD'\n",
      " 'Homebush' 'Westfield Parramatta, Parramatta' 'Berowra'\n",
      " 'Myahgah Mews, Mosman' 'Croydon' 'Top Ryde Shopping Centre, Ryde'\n",
      " 'Westfield Bondi Junction, Bondi Junction' 'Riverwood'\n",
      " 'Capitol Square, Chinatown' 'Westfield Hornsby, Hornsby' 'Auburn'\n",
      " 'Rydalmere' 'Chatswood Chase, Chatswood' 'Coogee' 'Summer Hill'\n",
      " 'Tramsheds, Harold Park' 'Penrith' 'Leura' 'Arncliffe' 'Willoughby'\n",
      " 'Beverly Hills' 'Bondi Pavilion, Bondi Beach' 'Kogarah' 'Rozelle'\n",
      " 'Swissotel Sydney CBD' 'Sans Souci' 'Park Royal Darling Harbour, CBD'\n",
      " 'Sheraton on the Park, CBD' 'Sylvania'\n",
      " 'Novotel Sydney Manly Pacific, Manly' 'Roselands' 'Waverley' 'Little Bay'\n",
      " 'Sydney Olympic Park' 'Artarmon' 'Fairfield' 'Pavilion On George, CBD'\n",
      " 'Gordon' 'The Kirketon Hotel, Darlinghurst' 'Lakemba'\n",
      " 'Fairfield RSL, Fairfield' 'Newport'\n",
      " 'Birkenhead Point Shopping Centre, Drummoyne' 'The Concourse, Chatswood'\n",
      " 'Hunter Connection, CBD' 'Rouse Hill' 'Stockland Piccadilly, CBD' 'Ryde'\n",
      " 'Kirrawee' 'Hunters Hill' 'Bexley' 'Mona Vale' 'Pacific Square, Maroubra'\n",
      " 'Naremburn' 'Amora Hotel Jamison Sydney, CBD' 'Central Park, Chippendale'\n",
      " 'Kingsgrove' 'Dee Why' 'Harbour Rocks Hotel, The Rocks ' 'Clovelly'\n",
      " 'Wollstonecraft' 'Lidcombe' 'Brooklyn' 'Roseville'\n",
      " 'Lidcombe Shopping Centre, Lidcombe' 'The Russell Hotel, The Rocks'\n",
      " 'Stockland Square, Cammeray' 'Epping' 'Bondi' 'Welcome Hotel, Rozelle'\n",
      " 'ArtHouse Hotel' 'MCA, The Rocks' 'Tempe'\n",
      " 'Cantebury League Club, Belmore' 'Five Dock' 'North Ryde'\n",
      " 'Q Station, Manly' 'St Martins Tower' 'Casula' 'Camden' 'Penshurst'\n",
      " 'Penrith Panthers, Penrith' 'Glenbrook' 'La Perouse' 'Brookvale'\n",
      " 'St. Peters' 'Greenwood Plaza, North Sydney' 'Zetland' 'Darlington'\n",
      " 'Pittwater' 'Pennant Hills' 'Sutherland' 'The York Hotel, CBD'\n",
      " 'Merrylands' 'The Entertainment Quarter, Moore Park' 'Hornsby'\n",
      " 'Terrey Hills' 'Italian Forum Cultural Centre, Leichardt'\n",
      " 'Baulkham Hills' 'Kareela' 'Vaucluse' 'Bankstown Sports Club, Bankstown'\n",
      " 'Castle Towers, Castle Hill' 'Bonnyrigg' 'The Quay, Chinatown' 'Belmore'\n",
      " 'Lindfield' 'Oatley' 'Marriott Sydney Harbour, Circular Quay'\n",
      " 'Chester Hill' 'Lemon Grove Shopping Centre, Chatswood' 'Narrabeen'\n",
      " 'Stamford Plaza Sydney Airport, Mascot' 'Moore Park' 'Monterey'\n",
      " 'Stockland Wetherill Park Shopping Centre, Wetherill Park' 'Turramurra'\n",
      " 'Sofitel Sydney, CBD' 'Belfield' 'Pullman Quay Grand Sydney Harbour, CBD'\n",
      " 'Strathfield Plaza, Strathfield' 'Lugarno' 'Grace Hotel ,CBD' 'Rockdale'\n",
      " 'HSBC Centre, CBD' 'The Westin Sydney, CBD' 'The Passage, CBD' 'Kyle Bay'\n",
      " 'Marsden Park Home' 'Centennial Parkland Dining, Moore Park '\n",
      " 'Newington Marketplace, Newington' \"Ravesi's Bondi, Bondi\"\n",
      " 'Broadway Shopping Centre, Glebe' 'Dixon House Food Court, CBD'\n",
      " 'North Parramatta' 'Green Valley' 'Barangaroo House' 'Meadowbank'\n",
      " 'Revesby' 'Elizabeth Plaza, North Sydney' 'Mandarin Centre, Chatswood'\n",
      " 'Oxford Square, Darlinghurst' 'Westfield Eastgardens, Eastgardens'\n",
      " 'The Gateway Plaza, The Hills' 'Central Station, Chinatown'\n",
      " 'Intercontinental Sydney Double Bay, Double Bay' 'Workers Blacktown'\n",
      " 'Kellyville' 'Matraville' 'Blacktown' 'Little Saigon Plaza' 'Carlingford'\n",
      " 'Gymea' 'Orient Hotel, The Rocks' 'Avalon' 'Katoomba'\n",
      " 'Sir Stamford Circular Quay, The Rocks' 'Greystanes' 'Primus Hotel'\n",
      " 'Menai' 'Norton Plaza, Leichhardt' 'Westfield Sydney Central Plaza, CBD'\n",
      " 'Berala' 'Caringbah' 'Earlwood' 'Rushcutters Bay'\n",
      " 'Westpoint Shopping Centre, Blacktown' 'Bilpin' 'Girraween'\n",
      " 'Macarthur Square Shopping Centre, Campbeltown'\n",
      " 'Danks Street Shopping Plaza, Waterloo'\n",
      " 'Westfield Hurstville, Hurstville' 'Crown Square Plaza, Waterloo'\n",
      " 'Malabar' 'Foodbase, CBD' 'T2 Sydney Domestic Airport' 'Bella Vista'\n",
      " 'Taren Point' 'Jannali' 'Gateway, Circular Quay' 'Windsor'\n",
      " 'Parramatta Leagues Club, Parramatta' 'Rouse Hill Town Centre'\n",
      " 'Cabra-Vale Diggers, Canley Vale' 'Blakehurst' 'Cabramatta Plaza'\n",
      " 'Breakfast Point' 'Narellan' 'Quakers Hill' 'Sussex Centre, Chinatown'\n",
      " 'Bayside Plaza, Brighton Le-Sands' 'The Langham, CBD'\n",
      " 'Cosmopolitan Centre, Double Bay' 'Ramsgate' 'Edgecliff' 'Seven Hills'\n",
      " 'Moorebank' 'Wynyard Station, CBD' 'Circular Quay Wharf, CBD' 'Padstow'\n",
      " 'Le Sands Pavillion, Brighton-Le-Sands' 'Campbelltown'\n",
      " 'UNSW Campus, Kensington' 'GPO Building, Gordon' 'Abbotsford'\n",
      " 'Northbridge' 'Westfield Miranda, Miranda' 'The Collaroy, Collaroy'\n",
      " 'Winston Hills Mall' 'Pittsway Arcade'\n",
      " 'Novotel Rockford, Darling Harbour' 'ParkRoyal Parramatta' 'St Ives'\n",
      " 'Westfield Warringah Mall, Warringah' 'Westfield Penrith Plaza, Penrith'\n",
      " 'Erskine Park' 'Mascot Central Shopping Precinct, Mascot'\n",
      " 'Colonial Centre, CBD' 'The Buena' 'Newington' 'Rydges World Square, CBD'\n",
      " 'Campbelltown Mall, Campbelltown'\n",
      " 'North Rocks Shopping Centre, North Rocks'\n",
      " 'Stockland Shopping Centre, Balgowlah' 'The Greengate Hotel' 'Peakhurst'\n",
      " 'Blaxland' 'Highfield Caringbah' 'Curl Curl'\n",
      " 'Kogarah Town Centre, Kogarah' 'Guildford' 'Old Toongabbie' 'Collaroy'\n",
      " 'Bankstown Central, Bankstown ' 'Engadine'\n",
      " 'Circa Retail Shopping Centre, Bella Vista' 'Springwood' 'Marsfield'\n",
      " 'MLC Building, North Sydney' 'St Ives Shopping Village' 'Richmond'\n",
      " 'St Marys' 'Meriton Dining Precinct Parramatta'\n",
      " 'Westfield Burwood, Burwood' 'Moorebank Shopping Village, Moorebank'\n",
      " 'Novotel Brighton, Brighton-Le-Sands' 'Northmead'\n",
      " 'Cherrybrook Village Shopping Centre, Cherrybrook'\n",
      " 'Norwest Marketown, Baulkham' 'Edgecliff Centre, Edgecliff' 'Pymble'\n",
      " 'Medlow Bath' 'Carlingford Court Shopping Centre, Carlingford'\n",
      " 'MLC Tower, CBD' 'Art Gallery of New South Wales' 'Heathcote'\n",
      " 'Sydney Airport' 'Beverley Park' 'Freshwater Village Plaza, Freshwater'\n",
      " 'Ermington' 'Beecroft' 'Gordon Centre, Gordon' 'Seaforth'\n",
      " 'Town Hall Square, CBD' 'T3 Sydney Domestic Airport' 'Balgowlah'\n",
      " 'Miranda Hotel, Miranda' 'Royal Randwick Shopping Centre, Randwick'\n",
      " 'Eastgardens' 'Bangor' 'Eastlakes Shopping Centre, Eastlakes' 'Wooloware'\n",
      " 'Lord Wolseley Hotel, Ultimo' 'Como' 'Redfern Village' 'Frenchs Forest'\n",
      " 'Sydney Markets Plaza' 'Tradies Gymea' 'Miranda'\n",
      " 'Marrickville Metro Shopping Centre, Marrickville'\n",
      " 'Wenty Leagues, Wentworthville' 'Pittwater Place, Mona Vale'\n",
      " 'Marketplace, West Ryde' 'Hotel CBD, CBD'\n",
      " 'Knightsbridge Shopping Centre, The Hills'\n",
      " 'Stockland Shopping Centre, The Hills' 'Northbridge Plaza, Northbridge'\n",
      " 'T1 Sydney International Airport' 'Supa Centa, Moore Park'\n",
      " 'DFO Homebush, Homebush' 'MetCentre, CBD' 'Westfield Mount Druitt'\n",
      " 'Fairmont Resort Blue Mountains' 'Narellan Town Centre, Narellan'\n",
      " 'Wentworth Building, Newton' 'Woodpark' 'Mount Druitt'\n",
      " 'Hurstville Central, Hurstville ' 'Ingleburn'\n",
      " 'The Piazza, Sydney Olympic Park' 'Bellevue Hill' 'Panania' 'Jenolan'\n",
      " 'Minto' 'Westfield Liverpool, Liverpool' 'Food@259, CBD '\n",
      " 'Holiday Inn Darling Harbour, Chinatown' 'Killara'\n",
      " 'Centennial Plaza, Surry Hills' 'Crowne Plaza Coogee' 'Kurnell'\n",
      " 'Pullman Sydney Hyde Park, CBD' 'Dee Why Market, Dee Why'\n",
      " 'The Occidental Hotel, CBD' 'The Lookout Echo Point, Katoomba'\n",
      " 'Yarrawarrah' 'The Light Brigade Hotel, Woollahra'\n",
      " 'Rydges North Sydney, North Sydney'\n",
      " 'Marketfair Shopping Centre, Campbeltown' 'North Rocks'\n",
      " '3 Weeds, Rozelle' 'Sofitel Sydney Darling Harbour'\n",
      " 'Auburn Central, Auburn' 'Riverstone' 'Seven Hills Plaza'\n",
      " 'Pemulwuy Marketplace' 'Kyeemagh' 'Woronora'\n",
      " 'SOL Living Lifestyle Precinct' 'Punchbowl' 'The Sussex Hotel, CBD'\n",
      " 'St George Leagues Club' 'Stockland Merrylands Shopping Centre, Holroyd'\n",
      " \"revesby workers'\" 'Southlands Shopping Centre' 'Burwood Plaza, Burwood '\n",
      " 'Eastgate, Bondi Junction' 'David Jones Foodhall, CBD'\n",
      " \"Hotel Sweeny's, CBD\" 'Tea Gardens Hotel Bondi Junction' 'Little Hartley'\n",
      " 'Australia Square Food Court, CBD' 'Chambers Arcade, CBD'\n",
      " 'North Sydney Harbour View Hotel North Sydney'\n",
      " 'Southgate Shopping Centre, Sylvania' 'Illawong'\n",
      " 'Roselands Shopping Centre, Roseland' 'Mathews Arcade, Kensington'\n",
      " 'Rockdale Shopping Plaza, Rockdale' 'Castle Mall, The Hills'\n",
      " 'Novotel Sydney Olympic Park' 'The Holiday Inn, Sydney Airport'\n",
      " 'Chullora Marketplace, Greenacre' 'Novotel Sydney Central, Chinatown'\n",
      " 'Macquarie Fields' 'Dee Why Grand Shopping Centre, Dee Why'\n",
      " 'Bridgepoint Shopping Centre, Mosman' 'Forum Plaza, St Leonards'\n",
      " 'Oatlands' 'Rydges Airport Hotel, Sydney Airport' 'Holsworthy'\n",
      " 'Taiwanese Night Market, Eastwood' 'Royal Exhibition Hotel'\n",
      " 'Coogee Legion Club' 'Manly Vale' 'Lithgow' 'Holiday Inn Parramatta'\n",
      " 'Castlereagh Street Food Court, CBD'\n",
      " 'Neeta City Shopping Centre, Fairfield'\n",
      " 'Mercure Sydney Parramatta, Parramatta'\n",
      " 'Martin Place Shopping Circle, CBD' 'Silverwater'\n",
      " 'Castlereagh Boutitque Hotel, CBD' 'Tower Square, North Sydney'\n",
      " 'Mount Victoria' 'Dee Why RSL Club'\n",
      " 'The Sydney Boulevard Hotel, Darlinghurst'\n",
      " 'Illawong Shopping Village, Illawong' 'Big Bear Shopping Centre'\n",
      " 'Bangor Shopping Centre, Bangor' 'Nepean Village, Penrith'\n",
      " 'Newport Village Arcade, Newport' 'Chatswood Rsl'\n",
      " 'The Juniors, Kingsford' 'Warriewood' 'Balgowlah RSL'\n",
      " 'Fairfield Chase, Fairfield']\n",
      "********** frequency **********\n",
      "subzone\n",
      "CBD                                       717\n",
      "Surry Hills                               444\n",
      "Newtown                                   302\n",
      "Darlinghurst                              287\n",
      "Parramatta                                281\n",
      "                                         ... \n",
      "Circular Quay Wharf, CBD                    1\n",
      "Macquarie Fields                            1\n",
      "Dee Why Grand Shopping Centre, Dee Why      1\n",
      "The Light Brigade Hotel, Woollahra          1\n",
      "Jenolan                                     1\n",
      "Name: count, Length: 520, dtype: int64\n"
     ]
    }
   ],
   "source": [
    "explore_categorical(restaurant_df, 'subzone')"
   ]
  },
  {
   "cell_type": "code",
   "execution_count": 424,
   "id": "ae02a907",
   "metadata": {},
   "outputs": [
    {
     "name": "stdout",
     "output_type": "stream",
     "text": [
      "********** missing values **********\n",
      "0\n",
      "********** Labels **********\n",
      "['Casual Dining' 'Café' 'Fine Dining' 'Bar' 'Dessert Parlour' 'Wine Bar'\n",
      " 'Fast Food' 'Bakery' 'Food Court' 'Pub' 'Food Truck' 'nan' 'Club'\n",
      " 'Beverage Shop']\n",
      "********** frequency **********\n",
      "type\n",
      "Casual Dining      6963\n",
      "Café               3400\n",
      "Bar                 866\n",
      "Fast Food           488\n",
      "Pub                 418\n",
      "Food Court          390\n",
      "Bakery              217\n",
      "Fine Dining         161\n",
      "Wine Bar            155\n",
      "Dessert Parlour     114\n",
      "nan                  35\n",
      "Beverage Shop        12\n",
      "Food Truck           11\n",
      "Club                 10\n",
      "Name: count, dtype: int64\n"
     ]
    }
   ],
   "source": [
    "explore_categorical(restaurant_df, 'type')"
   ]
  },
  {
   "cell_type": "code",
   "execution_count": 425,
   "id": "0acfa7c2",
   "metadata": {},
   "outputs": [
    {
     "name": "stdout",
     "output_type": "stream",
     "text": [
      "********** missing values **********\n",
      "0\n",
      "********** Labels **********\n",
      "['Sydney Madang' 'The Grounds of Alexandria Cafe' 'Sokyo' ...\n",
      " 'Hungry Hunter Sandwiches' 'Gardenia Motor Inn' 'Shades on Victoria']\n",
      "********** frequency **********\n",
      "title\n",
      "Meet Mica                   16\n",
      "Kin Senn                    16\n",
      "Coogee Pavilion             14\n",
      "Platform No. 8              12\n",
      "Jasmin1                     10\n",
      "                            ..\n",
      "Oporto                       1\n",
      "Cafe Banter                  1\n",
      "Bondi Massive                1\n",
      "Bonditony's Burger Joint     1\n",
      "Enjoy Mie                    1\n",
      "Name: count, Length: 7152, dtype: int64\n"
     ]
    }
   ],
   "source": [
    "explore_categorical(restaurant_df, 'title')"
   ]
  },
  {
   "cell_type": "markdown",
   "id": "5b9149a7",
   "metadata": {},
   "source": [
    "##### Explore Numerical Variables"
   ]
  },
  {
   "cell_type": "code",
   "execution_count": 426,
   "id": "2ca58636",
   "metadata": {},
   "outputs": [
    {
     "name": "stdout",
     "output_type": "stream",
     "text": [
      "There are 5 numerical variables\n",
      "\n",
      "The numerical variables are : ['cost', 'rating_number', 'votes', 'groupon', 'cost_2']\n"
     ]
    },
    {
     "data": {
      "text/html": [
       "<div>\n",
       "<style scoped>\n",
       "    .dataframe tbody tr th:only-of-type {\n",
       "        vertical-align: middle;\n",
       "    }\n",
       "\n",
       "    .dataframe tbody tr th {\n",
       "        vertical-align: top;\n",
       "    }\n",
       "\n",
       "    .dataframe thead th {\n",
       "        text-align: right;\n",
       "    }\n",
       "</style>\n",
       "<table border=\"1\" class=\"dataframe\">\n",
       "  <thead>\n",
       "    <tr style=\"text-align: right;\">\n",
       "      <th></th>\n",
       "      <th>cost</th>\n",
       "      <th>rating_number</th>\n",
       "      <th>votes</th>\n",
       "      <th>groupon</th>\n",
       "      <th>cost_2</th>\n",
       "    </tr>\n",
       "  </thead>\n",
       "  <tbody>\n",
       "    <tr>\n",
       "      <th>0</th>\n",
       "      <td>50.0</td>\n",
       "      <td>4.0</td>\n",
       "      <td>1311.0</td>\n",
       "      <td>False</td>\n",
       "      <td>5.243902</td>\n",
       "    </tr>\n",
       "    <tr>\n",
       "      <th>1</th>\n",
       "      <td>50.0</td>\n",
       "      <td>4.0</td>\n",
       "      <td>1311.0</td>\n",
       "      <td>False</td>\n",
       "      <td>5.243902</td>\n",
       "    </tr>\n",
       "    <tr>\n",
       "      <th>2</th>\n",
       "      <td>50.0</td>\n",
       "      <td>4.0</td>\n",
       "      <td>1311.0</td>\n",
       "      <td>False</td>\n",
       "      <td>5.243902</td>\n",
       "    </tr>\n",
       "    <tr>\n",
       "      <th>3</th>\n",
       "      <td>50.0</td>\n",
       "      <td>4.0</td>\n",
       "      <td>1311.0</td>\n",
       "      <td>False</td>\n",
       "      <td>5.243902</td>\n",
       "    </tr>\n",
       "    <tr>\n",
       "      <th>4</th>\n",
       "      <td>80.0</td>\n",
       "      <td>4.6</td>\n",
       "      <td>3236.0</td>\n",
       "      <td>False</td>\n",
       "      <td>7.560976</td>\n",
       "    </tr>\n",
       "  </tbody>\n",
       "</table>\n",
       "</div>"
      ],
      "text/plain": [
       "   cost  rating_number   votes  groupon    cost_2\n",
       "0  50.0            4.0  1311.0    False  5.243902\n",
       "1  50.0            4.0  1311.0    False  5.243902\n",
       "2  50.0            4.0  1311.0    False  5.243902\n",
       "3  50.0            4.0  1311.0    False  5.243902\n",
       "4  80.0            4.6  3236.0    False  7.560976"
      ]
     },
     "execution_count": 426,
     "metadata": {},
     "output_type": "execute_result"
    }
   ],
   "source": [
    "# Find numerical variables\n",
    "numericals = [var for var in restaurant_df.columns if restaurant_df[var].dtype != 'O']\n",
    "print('There are {} numerical variables\\n'.format(len(numericals)))\n",
    "print('The numerical variables are :', numericals)\n",
    "restaurant_df[numericals].head()"
   ]
  },
  {
   "cell_type": "code",
   "execution_count": 427,
   "id": "84a67432",
   "metadata": {},
   "outputs": [
    {
     "data": {
      "text/plain": [
       "cost             150\n",
       "rating_number      0\n",
       "votes              0\n",
       "groupon            0\n",
       "cost_2           150\n",
       "dtype: int64"
      ]
     },
     "execution_count": 427,
     "metadata": {},
     "output_type": "execute_result"
    }
   ],
   "source": [
    "# Explore problems within numerical variables\n",
    "# Check missing values in numerical variables\n",
    "restaurant_df[numericals].isnull().sum()"
   ]
  },
  {
   "cell_type": "code",
   "execution_count": 428,
   "id": "1e0c3247",
   "metadata": {},
   "outputs": [
    {
     "name": "stdout",
     "output_type": "stream",
     "text": [
      "          cost  rating_number    votes   cost_2\n",
      "count  13090.0        13240.0  13240.0  13090.0\n",
      "mean      57.0            3.0     97.0      6.0\n",
      "std       30.0            0.0    197.0      2.0\n",
      "min       10.0            2.0      4.0      2.0\n",
      "25%       40.0            3.0     13.0      4.0\n",
      "50%       50.0            3.0     39.0      5.0\n",
      "75%       70.0            4.0    104.0      7.0\n",
      "max      500.0            5.0   3236.0     40.0 2\n"
     ]
    }
   ],
   "source": [
    "# view summary statistics in numerical variables\n",
    "print(round(restaurant_df[numericals].describe()), 2)"
   ]
  },
  {
   "cell_type": "code",
   "execution_count": 429,
   "id": "7911e85a",
   "metadata": {},
   "outputs": [
    {
     "data": {
      "text/plain": [
       "Text(0, 0.5, 'Votes')"
      ]
     },
     "execution_count": 429,
     "metadata": {},
     "output_type": "execute_result"
    },
    {
     "data": {
      "image/png": "[encoded data removed]",
      "text/plain": [
       "<Figure size 1500x1000 with 3 Axes>"
      ]
     },
     "metadata": {},
     "output_type": "display_data"
    }
   ],
   "source": [
    "# Let's draw boxplots to visualise outliers in these variables\n",
    "plt.figure(figsize=(15, 10))\n",
    "plt.subplot(2,2,1)\n",
    "fig = restaurant_df.boxplot(column= 'cost')\n",
    "fig.set_title('')\n",
    "fig.set_ylabel('Cost')\n",
    "\n",
    "plt.subplot(2,2,2)\n",
    "fig = restaurant_df.boxplot(column= 'rating_number')\n",
    "fig.set_title('')\n",
    "fig.set_ylabel('Rating')\n",
    "\n",
    "plt.subplot(2,2,3)\n",
    "fig = restaurant_df.boxplot(column= 'votes')\n",
    "fig.set_title('')\n",
    "fig.set_ylabel('Votes')\n"
   ]
  },
  {
   "cell_type": "code",
   "execution_count": 430,
   "id": "382ce524",
   "metadata": {},
   "outputs": [
    {
     "data": {
      "text/plain": [
       "Text(0, 0.5, 'Rating')"
      ]
     },
     "execution_count": 430,
     "metadata": {},
     "output_type": "execute_result"
    },
    {
     "data": {
      "image/png": "[encoded data removed]",
      "text/plain": [
       "<Figure size 1500x1000 with 2 Axes>"
      ]
     },
     "metadata": {},
     "output_type": "display_data"
    }
   ],
   "source": [
    "# plot histogram to check distribution\n",
    "y = restaurant_df['rating_number']\n",
    "plt.figure(figsize=(15,10))\n",
    "\n",
    "\n",
    "plt.subplot(2, 1, 1)\n",
    "fig = restaurant_df['cost'].hist(bins=50)\n",
    "fig.set_xlabel('Cost')\n",
    "fig.set_ylabel('Rating')\n",
    "\n",
    "\n",
    "plt.subplot(2, 1, 2)\n",
    "fig = restaurant_df[\"votes\"].hist(bins=50)\n",
    "fig.set_xlabel('Votes')\n",
    "fig.set_ylabel('Rating')\n"
   ]
  },
  {
   "cell_type": "code",
   "execution_count": 431,
   "id": "c4a34c39",
   "metadata": {},
   "outputs": [],
   "source": [
    "# Find aoutliers in these variables\n",
    "def find_outliers(variable, factor= 3, print_summary=True):\n",
    "    IQR = restaurant_df[variable].quantile(0.75) - restaurant_df[variable].quantile(0.25)\n",
    "    Lower_boundary = restaurant_df[variable].quantile(0.25) - (IQR * factor)\n",
    "    Upper_boundary = restaurant_df[variable].quantile(0.75) + (IQR * factor)\n",
    "    \n",
    "    outliers= []\n",
    "    for index, val in enumerate(restaurant_df[variable]):\n",
    "        if val < Lower_boundary or val > Upper_boundary:\n",
    "            outliers.append(index)\n",
    "    \n",
    "    \n",
    "    if(print_summary):\n",
    "        print('{variable} outliers are values < {lowerboundary} or > {upperboundary}'.format(variable= variable, lowerboundary=Lower_boundary, upperboundary=Upper_boundary))\n",
    "    return Lower_boundary, Upper_boundary, outliers"
   ]
  },
  {
   "cell_type": "code",
   "execution_count": 432,
   "id": "4e9d2b7a",
   "metadata": {},
   "outputs": [
    {
     "name": "stdout",
     "output_type": "stream",
     "text": [
      "cost outliers are values < -50.0 or > 160.0\n"
     ]
    }
   ],
   "source": [
    "\n",
    "_,_,_ = find_outliers('cost')"
   ]
  },
  {
   "cell_type": "code",
   "execution_count": 433,
   "id": "5d563a97",
   "metadata": {},
   "outputs": [
    {
     "name": "stdout",
     "output_type": "stream",
     "text": [
      "rating_number outliers are values < 1.1999999999999997 or > 5.4\n"
     ]
    }
   ],
   "source": [
    "\n",
    "_,_,_ = find_outliers('rating_number')"
   ]
  },
  {
   "cell_type": "code",
   "execution_count": 434,
   "id": "1e77d9bd",
   "metadata": {},
   "outputs": [
    {
     "name": "stdout",
     "output_type": "stream",
     "text": [
      "votes outliers are values < -260.0 or > 377.0\n"
     ]
    }
   ],
   "source": [
    "\n",
    "_,_,_ = find_outliers('votes')"
   ]
  },
  {
   "cell_type": "markdown",
   "id": "486bef8c",
   "metadata": {},
   "source": [
    "#### Feature engineering"
   ]
  },
  {
   "cell_type": "code",
   "execution_count": 435,
   "id": "bec31bca",
   "metadata": {},
   "outputs": [
    {
     "data": {
      "text/plain": [
       "cost             float64\n",
       "cuisine           object\n",
       "rating_number    float64\n",
       "rating_text       object\n",
       "subzone           object\n",
       "title             object\n",
       "type              object\n",
       "votes            float64\n",
       "groupon             bool\n",
       "cost_2           float64\n",
       "dtype: object"
      ]
     },
     "execution_count": 435,
     "metadata": {},
     "output_type": "execute_result"
    }
   ],
   "source": [
    "restaurant_df.dtypes"
   ]
  },
  {
   "cell_type": "code",
   "execution_count": 436,
   "id": "cafdbfec",
   "metadata": {},
   "outputs": [
    {
     "data": {
      "text/plain": [
       "['cuisine', 'rating_text', 'subzone', 'title', 'type']"
      ]
     },
     "execution_count": 436,
     "metadata": {},
     "output_type": "execute_result"
    }
   ],
   "source": [
    "# display categorical variables\n",
    "categorical = [var for var in restaurant_df.columns if restaurant_df[var].dtypes == 'O']\n",
    "categorical"
   ]
  },
  {
   "cell_type": "code",
   "execution_count": 437,
   "id": "b01475ad",
   "metadata": {},
   "outputs": [
    {
     "data": {
      "text/plain": [
       "['cost', 'rating_number', 'votes', 'groupon', 'cost_2']"
      ]
     },
     "execution_count": 437,
     "metadata": {},
     "output_type": "execute_result"
    }
   ],
   "source": [
    "# display numerical variables\n",
    "numericals = [var for var in restaurant_df.columns if restaurant_df[var].dtypes != 'O']\n",
    "numericals"
   ]
  },
  {
   "cell_type": "markdown",
   "id": "f6fd6d19",
   "metadata": {},
   "source": [
    "#### Engineering missing values in numerical variables"
   ]
  },
  {
   "cell_type": "code",
   "execution_count": 438,
   "id": "c1964193",
   "metadata": {},
   "outputs": [
    {
     "data": {
      "text/plain": [
       "cost             150\n",
       "rating_number      0\n",
       "votes              0\n",
       "groupon            0\n",
       "cost_2           150\n",
       "dtype: int64"
      ]
     },
     "execution_count": 438,
     "metadata": {},
     "output_type": "execute_result"
    }
   ],
   "source": [
    "# display missing values\n",
    "restaurant_df[numericals].isnull().sum()"
   ]
  },
  {
   "cell_type": "code",
   "execution_count": 439,
   "id": "8cc59e1e",
   "metadata": {},
   "outputs": [
    {
     "data": {
      "text/plain": [
       "cost             0.01\n",
       "rating_number    0.00\n",
       "votes            0.00\n",
       "groupon          0.00\n",
       "cost_2           0.01\n",
       "dtype: float64"
      ]
     },
     "execution_count": 439,
     "metadata": {},
     "output_type": "execute_result"
    }
   ],
   "source": [
    "# percentage of missing values in each variable\n",
    "round(restaurant_df[numericals].isnull().mean(), 2)"
   ]
  },
  {
   "cell_type": "code",
   "execution_count": 440,
   "id": "66dd4433",
   "metadata": {},
   "outputs": [],
   "source": [
    "# Impute the missing values with the median values -- median is robust with the outliers\n",
    "for df_temp in [restaurant_df]:\n",
    "    for col in numericals:\n",
    "        col_median = restaurant_df[col].median() # get it only from training\n",
    "        df_temp[col].fillna(col_median, inplace=True)"
   ]
  },
  {
   "cell_type": "code",
   "execution_count": 441,
   "id": "a2a37110",
   "metadata": {},
   "outputs": [
    {
     "data": {
      "text/plain": [
       "cost             0\n",
       "rating_number    0\n",
       "votes            0\n",
       "groupon          0\n",
       "cost_2           0\n",
       "dtype: int64"
      ]
     },
     "execution_count": 441,
     "metadata": {},
     "output_type": "execute_result"
    }
   ],
   "source": [
    "# check again missing values in numerical variables in X_train\n",
    "restaurant_df[numericals].isnull().sum()"
   ]
  },
  {
   "cell_type": "markdown",
   "id": "ef369b79",
   "metadata": {},
   "source": [
    "#### Engineering missing values in categorical variables"
   ]
  },
  {
   "cell_type": "code",
   "execution_count": 442,
   "id": "c69ebb06",
   "metadata": {},
   "outputs": [
    {
     "data": {
      "text/plain": [
       "cuisine        0.0\n",
       "rating_text    0.0\n",
       "subzone        0.0\n",
       "title          0.0\n",
       "type           0.0\n",
       "dtype: float64"
      ]
     },
     "execution_count": 442,
     "metadata": {},
     "output_type": "execute_result"
    }
   ],
   "source": [
    "round(restaurant_df[categorical].isnull().mean(), 2)"
   ]
  },
  {
   "cell_type": "code",
   "execution_count": 443,
   "id": "5f0bb23f",
   "metadata": {},
   "outputs": [],
   "source": [
    "# impute missing categorical variables with most frequent value (i.e., mode)\n",
    "for df_temp in [restaurant_df]:\n",
    "    for col in categorical:\n",
    "        col_mode = restaurant_df[col].mode()[0] # get it only from training\n",
    "        df_temp[col].fillna(col_mode, inplace=True)"
   ]
  },
  {
   "cell_type": "code",
   "execution_count": 444,
   "id": "3d7337dd",
   "metadata": {},
   "outputs": [
    {
     "data": {
      "text/plain": [
       "cuisine        0\n",
       "rating_text    0\n",
       "subzone        0\n",
       "title          0\n",
       "type           0\n",
       "dtype: int64"
      ]
     },
     "execution_count": 444,
     "metadata": {},
     "output_type": "execute_result"
    }
   ],
   "source": [
    "# check missing values in categorical variables in data\n",
    "restaurant_df[categorical].isnull().sum()"
   ]
  },
  {
   "cell_type": "markdown",
   "id": "55a2a514",
   "metadata": {},
   "source": [
    "#### Engineering outliers in numerical variables"
   ]
  },
  {
   "cell_type": "code",
   "execution_count": 445,
   "id": "d4015353",
   "metadata": {},
   "outputs": [],
   "source": [
    "# Replace the outliers with some predefined the maximum value for each variable\n",
    "def max_value(df_temp, variable, top):\n",
    "    return np.where(df_temp[variable]>top, top, df_temp[variable])\n",
    "\n",
    "cols_with_outliers = {'cost': 160, \n",
    "                      'votes': 377\n",
    "                     }\n",
    "for df_temp in [restaurant_df]:\n",
    "    for col in cols_with_outliers:\n",
    "        df_temp[col] = max_value(df_temp, col, cols_with_outliers[col])"
   ]
  },
  {
   "cell_type": "code",
   "execution_count": 446,
   "id": "d98693b2",
   "metadata": {},
   "outputs": [
    {
     "data": {
      "text/plain": [
       "160.0"
      ]
     },
     "execution_count": 446,
     "metadata": {},
     "output_type": "execute_result"
    }
   ],
   "source": [
    "restaurant_df.cost.max()"
   ]
  },
  {
   "cell_type": "code",
   "execution_count": 447,
   "id": "7f3dff62",
   "metadata": {},
   "outputs": [
    {
     "data": {
      "text/plain": [
       "377.0"
      ]
     },
     "execution_count": 447,
     "metadata": {},
     "output_type": "execute_result"
    }
   ],
   "source": [
    "restaurant_df.votes.max()"
   ]
  },
  {
   "cell_type": "code",
   "execution_count": 448,
   "id": "c9aed4cd",
   "metadata": {},
   "outputs": [
    {
     "data": {
      "image/png": "[encoded data removed]",
      "text/plain": [
       "<Figure size 1500x1000 with 1 Axes>"
      ]
     },
     "metadata": {},
     "output_type": "display_data"
    }
   ],
   "source": [
    "# we can also use seaborn library to plot elegant ones\n",
    "df_custom = restaurant_df[['cost', 'votes']]\n",
    "plt.figure(figsize=(15,10))\n",
    "ax = sns.boxplot(data=df_custom, orient=\"h\", palette=\"Set2\")\n"
   ]
  },
  {
   "cell_type": "markdown",
   "id": "981f291c",
   "metadata": {},
   "source": [
    "##### 2. Use proper label/feature encoding for each feature/column you consider making the data ready for the modelling step"
   ]
  },
  {
   "cell_type": "markdown",
   "id": "8610ba36",
   "metadata": {},
   "source": [
    "#### Encoding the categorical variables"
   ]
  },
  {
   "cell_type": "code",
   "execution_count": 449,
   "id": "05850369",
   "metadata": {},
   "outputs": [
    {
     "data": {
      "text/html": [
       "<div>\n",
       "<style scoped>\n",
       "    .dataframe tbody tr th:only-of-type {\n",
       "        vertical-align: middle;\n",
       "    }\n",
       "\n",
       "    .dataframe tbody tr th {\n",
       "        vertical-align: top;\n",
       "    }\n",
       "\n",
       "    .dataframe thead th {\n",
       "        text-align: right;\n",
       "    }\n",
       "</style>\n",
       "<table border=\"1\" class=\"dataframe\">\n",
       "  <thead>\n",
       "    <tr style=\"text-align: right;\">\n",
       "      <th></th>\n",
       "      <th>cuisine</th>\n",
       "      <th>rating_text</th>\n",
       "      <th>subzone</th>\n",
       "      <th>title</th>\n",
       "      <th>type</th>\n",
       "    </tr>\n",
       "  </thead>\n",
       "  <tbody>\n",
       "    <tr>\n",
       "      <th>0</th>\n",
       "      <td>Hot Pot</td>\n",
       "      <td>Very Good</td>\n",
       "      <td>CBD</td>\n",
       "      <td>Sydney Madang</td>\n",
       "      <td>Casual Dining</td>\n",
       "    </tr>\n",
       "    <tr>\n",
       "      <th>1</th>\n",
       "      <td>Korean BBQ</td>\n",
       "      <td>Very Good</td>\n",
       "      <td>CBD</td>\n",
       "      <td>Sydney Madang</td>\n",
       "      <td>Casual Dining</td>\n",
       "    </tr>\n",
       "    <tr>\n",
       "      <th>2</th>\n",
       "      <td>BBQ</td>\n",
       "      <td>Very Good</td>\n",
       "      <td>CBD</td>\n",
       "      <td>Sydney Madang</td>\n",
       "      <td>Casual Dining</td>\n",
       "    </tr>\n",
       "    <tr>\n",
       "      <th>3</th>\n",
       "      <td>Korean</td>\n",
       "      <td>Very Good</td>\n",
       "      <td>CBD</td>\n",
       "      <td>Sydney Madang</td>\n",
       "      <td>Casual Dining</td>\n",
       "    </tr>\n",
       "    <tr>\n",
       "      <th>4</th>\n",
       "      <td>Cafe</td>\n",
       "      <td>Excellent</td>\n",
       "      <td>The Grounds of Alexandria, Alexandria</td>\n",
       "      <td>The Grounds of Alexandria Cafe</td>\n",
       "      <td>Café</td>\n",
       "    </tr>\n",
       "  </tbody>\n",
       "</table>\n",
       "</div>"
      ],
      "text/plain": [
       "      cuisine rating_text                                subzone  \\\n",
       "0     Hot Pot   Very Good                                    CBD   \n",
       "1  Korean BBQ   Very Good                                    CBD   \n",
       "2         BBQ   Very Good                                    CBD   \n",
       "3      Korean   Very Good                                    CBD   \n",
       "4        Cafe   Excellent  The Grounds of Alexandria, Alexandria   \n",
       "\n",
       "                            title           type  \n",
       "0                   Sydney Madang  Casual Dining  \n",
       "1                   Sydney Madang  Casual Dining  \n",
       "2                   Sydney Madang  Casual Dining  \n",
       "3                   Sydney Madang  Casual Dining  \n",
       "4  The Grounds of Alexandria Cafe           Café  "
      ]
     },
     "execution_count": 449,
     "metadata": {},
     "output_type": "execute_result"
    }
   ],
   "source": [
    "restaurant_df[categorical].head()"
   ]
  },
  {
   "cell_type": "code",
   "execution_count": 450,
   "id": "4ef0d686",
   "metadata": {},
   "outputs": [],
   "source": [
    "#Encode the input Variables\n",
    "def Encode(restaurant_df):\n",
    "    for column in restaurant_df.columns[~restaurant_df.columns.isin(['cost', 'votes'])]:\n",
    "        restaurant_df[column] = restaurant_df[column].factorize()[0]\n",
    "    return restaurant_df\n",
    "\n",
    "df_en = Encode(restaurant_df.copy())"
   ]
  },
  {
   "cell_type": "code",
   "execution_count": 451,
   "id": "c7527b2d",
   "metadata": {},
   "outputs": [
    {
     "data": {
      "text/html": [
       "<div>\n",
       "<style scoped>\n",
       "    .dataframe tbody tr th:only-of-type {\n",
       "        vertical-align: middle;\n",
       "    }\n",
       "\n",
       "    .dataframe tbody tr th {\n",
       "        vertical-align: top;\n",
       "    }\n",
       "\n",
       "    .dataframe thead th {\n",
       "        text-align: right;\n",
       "    }\n",
       "</style>\n",
       "<table border=\"1\" class=\"dataframe\">\n",
       "  <thead>\n",
       "    <tr style=\"text-align: right;\">\n",
       "      <th></th>\n",
       "      <th>cost</th>\n",
       "      <th>cuisine</th>\n",
       "      <th>rating_number</th>\n",
       "      <th>rating_text</th>\n",
       "      <th>subzone</th>\n",
       "      <th>title</th>\n",
       "      <th>type</th>\n",
       "      <th>votes</th>\n",
       "      <th>groupon</th>\n",
       "      <th>cost_2</th>\n",
       "    </tr>\n",
       "  </thead>\n",
       "  <tbody>\n",
       "    <tr>\n",
       "      <th>0</th>\n",
       "      <td>50.0</td>\n",
       "      <td>0</td>\n",
       "      <td>0</td>\n",
       "      <td>0</td>\n",
       "      <td>0</td>\n",
       "      <td>0</td>\n",
       "      <td>0</td>\n",
       "      <td>377.0</td>\n",
       "      <td>0</td>\n",
       "      <td>0</td>\n",
       "    </tr>\n",
       "    <tr>\n",
       "      <th>1</th>\n",
       "      <td>50.0</td>\n",
       "      <td>1</td>\n",
       "      <td>0</td>\n",
       "      <td>0</td>\n",
       "      <td>0</td>\n",
       "      <td>0</td>\n",
       "      <td>0</td>\n",
       "      <td>377.0</td>\n",
       "      <td>0</td>\n",
       "      <td>0</td>\n",
       "    </tr>\n",
       "    <tr>\n",
       "      <th>2</th>\n",
       "      <td>50.0</td>\n",
       "      <td>2</td>\n",
       "      <td>0</td>\n",
       "      <td>0</td>\n",
       "      <td>0</td>\n",
       "      <td>0</td>\n",
       "      <td>0</td>\n",
       "      <td>377.0</td>\n",
       "      <td>0</td>\n",
       "      <td>0</td>\n",
       "    </tr>\n",
       "    <tr>\n",
       "      <th>3</th>\n",
       "      <td>50.0</td>\n",
       "      <td>3</td>\n",
       "      <td>0</td>\n",
       "      <td>0</td>\n",
       "      <td>0</td>\n",
       "      <td>0</td>\n",
       "      <td>0</td>\n",
       "      <td>377.0</td>\n",
       "      <td>0</td>\n",
       "      <td>0</td>\n",
       "    </tr>\n",
       "    <tr>\n",
       "      <th>4</th>\n",
       "      <td>80.0</td>\n",
       "      <td>4</td>\n",
       "      <td>1</td>\n",
       "      <td>1</td>\n",
       "      <td>1</td>\n",
       "      <td>1</td>\n",
       "      <td>1</td>\n",
       "      <td>377.0</td>\n",
       "      <td>0</td>\n",
       "      <td>1</td>\n",
       "    </tr>\n",
       "    <tr>\n",
       "      <th>...</th>\n",
       "      <td>...</td>\n",
       "      <td>...</td>\n",
       "      <td>...</td>\n",
       "      <td>...</td>\n",
       "      <td>...</td>\n",
       "      <td>...</td>\n",
       "      <td>...</td>\n",
       "      <td>...</td>\n",
       "      <td>...</td>\n",
       "      <td>...</td>\n",
       "    </tr>\n",
       "    <tr>\n",
       "      <th>17176</th>\n",
       "      <td>65.0</td>\n",
       "      <td>9</td>\n",
       "      <td>31</td>\n",
       "      <td>3</td>\n",
       "      <td>53</td>\n",
       "      <td>7150</td>\n",
       "      <td>0</td>\n",
       "      <td>4.0</td>\n",
       "      <td>0</td>\n",
       "      <td>23</td>\n",
       "    </tr>\n",
       "    <tr>\n",
       "      <th>18217</th>\n",
       "      <td>60.0</td>\n",
       "      <td>33</td>\n",
       "      <td>31</td>\n",
       "      <td>3</td>\n",
       "      <td>515</td>\n",
       "      <td>7151</td>\n",
       "      <td>0</td>\n",
       "      <td>4.0</td>\n",
       "      <td>0</td>\n",
       "      <td>10</td>\n",
       "    </tr>\n",
       "    <tr>\n",
       "      <th>18218</th>\n",
       "      <td>60.0</td>\n",
       "      <td>33</td>\n",
       "      <td>31</td>\n",
       "      <td>3</td>\n",
       "      <td>515</td>\n",
       "      <td>7151</td>\n",
       "      <td>3</td>\n",
       "      <td>4.0</td>\n",
       "      <td>0</td>\n",
       "      <td>10</td>\n",
       "    </tr>\n",
       "    <tr>\n",
       "      <th>18219</th>\n",
       "      <td>60.0</td>\n",
       "      <td>27</td>\n",
       "      <td>31</td>\n",
       "      <td>3</td>\n",
       "      <td>515</td>\n",
       "      <td>7151</td>\n",
       "      <td>0</td>\n",
       "      <td>4.0</td>\n",
       "      <td>0</td>\n",
       "      <td>10</td>\n",
       "    </tr>\n",
       "    <tr>\n",
       "      <th>18220</th>\n",
       "      <td>60.0</td>\n",
       "      <td>27</td>\n",
       "      <td>31</td>\n",
       "      <td>3</td>\n",
       "      <td>515</td>\n",
       "      <td>7151</td>\n",
       "      <td>3</td>\n",
       "      <td>4.0</td>\n",
       "      <td>0</td>\n",
       "      <td>10</td>\n",
       "    </tr>\n",
       "  </tbody>\n",
       "</table>\n",
       "<p>13240 rows × 10 columns</p>\n",
       "</div>"
      ],
      "text/plain": [
       "       cost  cuisine  rating_number  rating_text  subzone  title  type  votes  \\\n",
       "0      50.0        0              0            0        0      0     0  377.0   \n",
       "1      50.0        1              0            0        0      0     0  377.0   \n",
       "2      50.0        2              0            0        0      0     0  377.0   \n",
       "3      50.0        3              0            0        0      0     0  377.0   \n",
       "4      80.0        4              1            1        1      1     1  377.0   \n",
       "...     ...      ...            ...          ...      ...    ...   ...    ...   \n",
       "17176  65.0        9             31            3       53   7150     0    4.0   \n",
       "18217  60.0       33             31            3      515   7151     0    4.0   \n",
       "18218  60.0       33             31            3      515   7151     3    4.0   \n",
       "18219  60.0       27             31            3      515   7151     0    4.0   \n",
       "18220  60.0       27             31            3      515   7151     3    4.0   \n",
       "\n",
       "       groupon  cost_2  \n",
       "0            0       0  \n",
       "1            0       0  \n",
       "2            0       0  \n",
       "3            0       0  \n",
       "4            0       1  \n",
       "...        ...     ...  \n",
       "17176        0      23  \n",
       "18217        0      10  \n",
       "18218        0      10  \n",
       "18219        0      10  \n",
       "18220        0      10  \n",
       "\n",
       "[13240 rows x 10 columns]"
      ]
     },
     "execution_count": 451,
     "metadata": {},
     "output_type": "execute_result"
    }
   ],
   "source": [
    "df_en"
   ]
  },
  {
   "cell_type": "code",
   "execution_count": 452,
   "id": "2da8c38e",
   "metadata": {},
   "outputs": [
    {
     "data": {
      "text/plain": [
       "Index(['cost', 'cuisine', 'rating_number', 'rating_text', 'subzone', 'title',\n",
       "       'type', 'votes', 'groupon', 'cost_2'],\n",
       "      dtype='object')"
      ]
     },
     "execution_count": 452,
     "metadata": {},
     "output_type": "execute_result"
    },
    {
     "data": {
      "image/png": "[encoded data removed]",
      "text/plain": [
       "<Figure size 1500x800 with 2 Axes>"
      ]
     },
     "metadata": {},
     "output_type": "display_data"
    }
   ],
   "source": [
    "#Get Correlation between different variables\n",
    "corr = df_en.corr(method='kendall')\n",
    "plt.figure(figsize=(15,8))\n",
    "sns.heatmap(corr, annot=True)\n",
    "df_en.columns"
   ]
  },
  {
   "cell_type": "markdown",
   "id": "d9d99c10",
   "metadata": {},
   "source": [
    "#### II. Regression:"
   ]
  },
  {
   "cell_type": "markdown",
   "id": "1fd37368",
   "metadata": {},
   "source": [
    "##### 3. Build a linear regression model (model_regression_1) to predict the restaurants rating (numeric rating) from other features (columns) in the dataset. Please consider splitting the data into train (80%) and test (20%) sets.\n",
    "[Hint: please use sklearn.model_selection.train_test_split and set random_state=0 “\n",
    "while splitting]"
   ]
  },
  {
   "cell_type": "markdown",
   "id": "9cce7fac",
   "metadata": {},
   "source": [
    "##### Declare source and target variables"
   ]
  },
  {
   "cell_type": "code",
   "execution_count": 453,
   "id": "749f1171",
   "metadata": {},
   "outputs": [],
   "source": [
    "X = df_en.drop(['rating_number'], axis=1)\n",
    "y = df_en['rating_number']"
   ]
  },
  {
   "cell_type": "code",
   "execution_count": 454,
   "id": "5c7a47b7",
   "metadata": {},
   "outputs": [
    {
     "data": {
      "text/html": [
       "<div>\n",
       "<style scoped>\n",
       "    .dataframe tbody tr th:only-of-type {\n",
       "        vertical-align: middle;\n",
       "    }\n",
       "\n",
       "    .dataframe tbody tr th {\n",
       "        vertical-align: top;\n",
       "    }\n",
       "\n",
       "    .dataframe thead th {\n",
       "        text-align: right;\n",
       "    }\n",
       "</style>\n",
       "<table border=\"1\" class=\"dataframe\">\n",
       "  <thead>\n",
       "    <tr style=\"text-align: right;\">\n",
       "      <th></th>\n",
       "      <th>cost</th>\n",
       "      <th>cuisine</th>\n",
       "      <th>rating_text</th>\n",
       "      <th>subzone</th>\n",
       "      <th>title</th>\n",
       "      <th>type</th>\n",
       "      <th>votes</th>\n",
       "      <th>groupon</th>\n",
       "      <th>cost_2</th>\n",
       "    </tr>\n",
       "  </thead>\n",
       "  <tbody>\n",
       "    <tr>\n",
       "      <th>0</th>\n",
       "      <td>50.0</td>\n",
       "      <td>0</td>\n",
       "      <td>0</td>\n",
       "      <td>0</td>\n",
       "      <td>0</td>\n",
       "      <td>0</td>\n",
       "      <td>377.0</td>\n",
       "      <td>0</td>\n",
       "      <td>0</td>\n",
       "    </tr>\n",
       "    <tr>\n",
       "      <th>1</th>\n",
       "      <td>50.0</td>\n",
       "      <td>1</td>\n",
       "      <td>0</td>\n",
       "      <td>0</td>\n",
       "      <td>0</td>\n",
       "      <td>0</td>\n",
       "      <td>377.0</td>\n",
       "      <td>0</td>\n",
       "      <td>0</td>\n",
       "    </tr>\n",
       "    <tr>\n",
       "      <th>2</th>\n",
       "      <td>50.0</td>\n",
       "      <td>2</td>\n",
       "      <td>0</td>\n",
       "      <td>0</td>\n",
       "      <td>0</td>\n",
       "      <td>0</td>\n",
       "      <td>377.0</td>\n",
       "      <td>0</td>\n",
       "      <td>0</td>\n",
       "    </tr>\n",
       "    <tr>\n",
       "      <th>3</th>\n",
       "      <td>50.0</td>\n",
       "      <td>3</td>\n",
       "      <td>0</td>\n",
       "      <td>0</td>\n",
       "      <td>0</td>\n",
       "      <td>0</td>\n",
       "      <td>377.0</td>\n",
       "      <td>0</td>\n",
       "      <td>0</td>\n",
       "    </tr>\n",
       "    <tr>\n",
       "      <th>4</th>\n",
       "      <td>80.0</td>\n",
       "      <td>4</td>\n",
       "      <td>1</td>\n",
       "      <td>1</td>\n",
       "      <td>1</td>\n",
       "      <td>1</td>\n",
       "      <td>377.0</td>\n",
       "      <td>0</td>\n",
       "      <td>1</td>\n",
       "    </tr>\n",
       "    <tr>\n",
       "      <th>...</th>\n",
       "      <td>...</td>\n",
       "      <td>...</td>\n",
       "      <td>...</td>\n",
       "      <td>...</td>\n",
       "      <td>...</td>\n",
       "      <td>...</td>\n",
       "      <td>...</td>\n",
       "      <td>...</td>\n",
       "      <td>...</td>\n",
       "    </tr>\n",
       "    <tr>\n",
       "      <th>17176</th>\n",
       "      <td>65.0</td>\n",
       "      <td>9</td>\n",
       "      <td>3</td>\n",
       "      <td>53</td>\n",
       "      <td>7150</td>\n",
       "      <td>0</td>\n",
       "      <td>4.0</td>\n",
       "      <td>0</td>\n",
       "      <td>23</td>\n",
       "    </tr>\n",
       "    <tr>\n",
       "      <th>18217</th>\n",
       "      <td>60.0</td>\n",
       "      <td>33</td>\n",
       "      <td>3</td>\n",
       "      <td>515</td>\n",
       "      <td>7151</td>\n",
       "      <td>0</td>\n",
       "      <td>4.0</td>\n",
       "      <td>0</td>\n",
       "      <td>10</td>\n",
       "    </tr>\n",
       "    <tr>\n",
       "      <th>18218</th>\n",
       "      <td>60.0</td>\n",
       "      <td>33</td>\n",
       "      <td>3</td>\n",
       "      <td>515</td>\n",
       "      <td>7151</td>\n",
       "      <td>3</td>\n",
       "      <td>4.0</td>\n",
       "      <td>0</td>\n",
       "      <td>10</td>\n",
       "    </tr>\n",
       "    <tr>\n",
       "      <th>18219</th>\n",
       "      <td>60.0</td>\n",
       "      <td>27</td>\n",
       "      <td>3</td>\n",
       "      <td>515</td>\n",
       "      <td>7151</td>\n",
       "      <td>0</td>\n",
       "      <td>4.0</td>\n",
       "      <td>0</td>\n",
       "      <td>10</td>\n",
       "    </tr>\n",
       "    <tr>\n",
       "      <th>18220</th>\n",
       "      <td>60.0</td>\n",
       "      <td>27</td>\n",
       "      <td>3</td>\n",
       "      <td>515</td>\n",
       "      <td>7151</td>\n",
       "      <td>3</td>\n",
       "      <td>4.0</td>\n",
       "      <td>0</td>\n",
       "      <td>10</td>\n",
       "    </tr>\n",
       "  </tbody>\n",
       "</table>\n",
       "<p>13240 rows × 9 columns</p>\n",
       "</div>"
      ],
      "text/plain": [
       "       cost  cuisine  rating_text  subzone  title  type  votes  groupon  \\\n",
       "0      50.0        0            0        0      0     0  377.0        0   \n",
       "1      50.0        1            0        0      0     0  377.0        0   \n",
       "2      50.0        2            0        0      0     0  377.0        0   \n",
       "3      50.0        3            0        0      0     0  377.0        0   \n",
       "4      80.0        4            1        1      1     1  377.0        0   \n",
       "...     ...      ...          ...      ...    ...   ...    ...      ...   \n",
       "17176  65.0        9            3       53   7150     0    4.0        0   \n",
       "18217  60.0       33            3      515   7151     0    4.0        0   \n",
       "18218  60.0       33            3      515   7151     3    4.0        0   \n",
       "18219  60.0       27            3      515   7151     0    4.0        0   \n",
       "18220  60.0       27            3      515   7151     3    4.0        0   \n",
       "\n",
       "       cost_2  \n",
       "0           0  \n",
       "1           0  \n",
       "2           0  \n",
       "3           0  \n",
       "4           1  \n",
       "...       ...  \n",
       "17176      23  \n",
       "18217      10  \n",
       "18218      10  \n",
       "18219      10  \n",
       "18220      10  \n",
       "\n",
       "[13240 rows x 9 columns]"
      ]
     },
     "execution_count": 454,
     "metadata": {},
     "output_type": "execute_result"
    }
   ],
   "source": [
    "X"
   ]
  },
  {
   "cell_type": "code",
   "execution_count": 455,
   "id": "6739e6a6",
   "metadata": {},
   "outputs": [
    {
     "data": {
      "text/plain": [
       "0         0\n",
       "1         0\n",
       "2         0\n",
       "3         0\n",
       "4         1\n",
       "         ..\n",
       "17176    31\n",
       "18217    31\n",
       "18218    31\n",
       "18219    31\n",
       "18220    31\n",
       "Name: rating_number, Length: 13240, dtype: int64"
      ]
     },
     "execution_count": 455,
     "metadata": {},
     "output_type": "execute_result"
    }
   ],
   "source": [
    "y"
   ]
  },
  {
   "cell_type": "markdown",
   "id": "088c9b4e",
   "metadata": {},
   "source": [
    "#### Split data into separate training and test set"
   ]
  },
  {
   "cell_type": "code",
   "execution_count": 456,
   "id": "e40fdb22",
   "metadata": {},
   "outputs": [
    {
     "name": "stdout",
     "output_type": "stream",
     "text": [
      "(10592, 9) (10592,)\n",
      "(2648, 9) (2648,)\n"
     ]
    }
   ],
   "source": [
    "# split X and y into training and testing sets\n",
    "from sklearn.model_selection import train_test_split\n",
    "\n",
    "test_size = 0.2\n",
    "X_train, X_test, y_train, y_test = train_test_split(X, y, test_size = test_size, random_state=0)\n",
    "\n",
    "print(X_train.shape, y_train.shape)\n",
    "print(X_test.shape, y_test.shape)"
   ]
  },
  {
   "cell_type": "markdown",
   "id": "d163218a",
   "metadata": {},
   "source": [
    "##### Model training using logistic regression"
   ]
  },
  {
   "cell_type": "code",
   "execution_count": 482,
   "id": "71902b86",
   "metadata": {},
   "outputs": [
    {
     "data": {
      "text/html": [
       "<style>#sk-container-id-10 {color: black;}#sk-container-id-10 pre{padding: 0;}#sk-container-id-10 div.sk-toggleable {background-color: white;}#sk-container-id-10 label.sk-toggleable__label {cursor: pointer;display: block;width: 100%;margin-bottom: 0;padding: 0.3em;box-sizing: border-box;text-align: center;}#sk-container-id-10 label.sk-toggleable__label-arrow:before {content: \"▸\";float: left;margin-right: 0.25em;color: #696969;}#sk-container-id-10 label.sk-toggleable__label-arrow:hover:before {color: black;}#sk-container-id-10 div.sk-estimator:hover label.sk-toggleable__label-arrow:before {color: black;}#sk-container-id-10 div.sk-toggleable__content {max-height: 0;max-width: 0;overflow: hidden;text-align: left;background-color: #f0f8ff;}#sk-container-id-10 div.sk-toggleable__content pre {margin: 0.2em;color: black;border-radius: 0.25em;background-color: #f0f8ff;}#sk-container-id-10 input.sk-toggleable__control:checked~div.sk-toggleable__content {max-height: 200px;max-width: 100%;overflow: auto;}#sk-container-id-10 input.sk-toggleable__control:checked~label.sk-toggleable__label-arrow:before {content: \"▾\";}#sk-container-id-10 div.sk-estimator input.sk-toggleable__control:checked~label.sk-toggleable__label {background-color: #d4ebff;}#sk-container-id-10 div.sk-label input.sk-toggleable__control:checked~label.sk-toggleable__label {background-color: #d4ebff;}#sk-container-id-10 input.sk-hidden--visually {border: 0;clip: rect(1px 1px 1px 1px);clip: rect(1px, 1px, 1px, 1px);height: 1px;margin: -1px;overflow: hidden;padding: 0;position: absolute;width: 1px;}#sk-container-id-10 div.sk-estimator {font-family: monospace;background-color: #f0f8ff;border: 1px dotted black;border-radius: 0.25em;box-sizing: border-box;margin-bottom: 0.5em;}#sk-container-id-10 div.sk-estimator:hover {background-color: #d4ebff;}#sk-container-id-10 div.sk-parallel-item::after {content: \"\";width: 100%;border-bottom: 1px solid gray;flex-grow: 1;}#sk-container-id-10 div.sk-label:hover label.sk-toggleable__label {background-color: #d4ebff;}#sk-container-id-10 div.sk-serial::before {content: \"\";position: absolute;border-left: 1px solid gray;box-sizing: border-box;top: 0;bottom: 0;left: 50%;z-index: 0;}#sk-container-id-10 div.sk-serial {display: flex;flex-direction: column;align-items: center;background-color: white;padding-right: 0.2em;padding-left: 0.2em;position: relative;}#sk-container-id-10 div.sk-item {position: relative;z-index: 1;}#sk-container-id-10 div.sk-parallel {display: flex;align-items: stretch;justify-content: center;background-color: white;position: relative;}#sk-container-id-10 div.sk-item::before, #sk-container-id-10 div.sk-parallel-item::before {content: \"\";position: absolute;border-left: 1px solid gray;box-sizing: border-box;top: 0;bottom: 0;left: 50%;z-index: -1;}#sk-container-id-10 div.sk-parallel-item {display: flex;flex-direction: column;z-index: 1;position: relative;background-color: white;}#sk-container-id-10 div.sk-parallel-item:first-child::after {align-self: flex-end;width: 50%;}#sk-container-id-10 div.sk-parallel-item:last-child::after {align-self: flex-start;width: 50%;}#sk-container-id-10 div.sk-parallel-item:only-child::after {width: 0;}#sk-container-id-10 div.sk-dashed-wrapped {border: 1px dashed gray;margin: 0 0.4em 0.5em 0.4em;box-sizing: border-box;padding-bottom: 0.4em;background-color: white;}#sk-container-id-10 div.sk-label label {font-family: monospace;font-weight: bold;display: inline-block;line-height: 1.2em;}#sk-container-id-10 div.sk-label-container {text-align: center;}#sk-container-id-10 div.sk-container {/* jupyter's `normalize.less` sets `[hidden] { display: none; }` but bootstrap.min.css set `[hidden] { display: none !important; }` so we also need the `!important` here to be able to override the default hidden behavior on the sphinx rendered scikit-learn.org. See: https://github.com/scikit-learn/scikit-learn/issues/21755 */display: inline-block !important;position: relative;}#sk-container-id-10 div.sk-text-repr-fallback {display: none;}</style><div id=\"sk-container-id-10\" class=\"sk-top-container\"><div class=\"sk-text-repr-fallback\"><pre>LogisticRegression(random_state=0, solver=&#x27;liblinear&#x27;)</pre><b>In a Jupyter environment, please rerun this cell to show the HTML representation or trust the notebook. <br />On GitHub, the HTML representation is unable to render, please try loading this page with nbviewer.org.</b></div><div class=\"sk-container\" hidden><div class=\"sk-item\"><div class=\"sk-estimator sk-toggleable\"><input class=\"sk-toggleable__control sk-hidden--visually\" id=\"sk-estimator-id-10\" type=\"checkbox\" checked><label for=\"sk-estimator-id-10\" class=\"sk-toggleable__label sk-toggleable__label-arrow\">LogisticRegression</label><div class=\"sk-toggleable__content\"><pre>LogisticRegression(random_state=0, solver=&#x27;liblinear&#x27;)</pre></div></div></div></div></div>"
      ],
      "text/plain": [
       "LogisticRegression(random_state=0, solver='liblinear')"
      ]
     },
     "execution_count": 482,
     "metadata": {},
     "output_type": "execute_result"
    }
   ],
   "source": [
    "# train a logistic regression model on the training set\n",
    "from sklearn.linear_model import LogisticRegression\n",
    "\n",
    "# instantiate the model\n",
    "model_LR = LogisticRegression(solver='liblinear', random_state=0)\n",
    "\n",
    "\n",
    "# fit the model\n",
    "model_LR.fit(X_train, y_train)"
   ]
  },
  {
   "cell_type": "code",
   "execution_count": 458,
   "id": "b8f6bee1",
   "metadata": {},
   "outputs": [
    {
     "data": {
      "text/plain": [
       "array([16, 26, 12, ..., 11, 21, 13], dtype=int64)"
      ]
     },
     "execution_count": 458,
     "metadata": {},
     "output_type": "execute_result"
    }
   ],
   "source": [
    "# Predict results\n",
    "y_pred_LR = logreg.predict(X_test)\n",
    "\n",
    "y_pred_LR"
   ]
  },
  {
   "cell_type": "code",
   "execution_count": 459,
   "id": "d26b717e",
   "metadata": {},
   "outputs": [
    {
     "name": "stdout",
     "output_type": "stream",
     "text": [
      "Model accuracy score: 0.2636\n"
     ]
    }
   ],
   "source": [
    "# Check accuracy score\n",
    "from sklearn.metrics import accuracy_score\n",
    "\n",
    "print('Model accuracy score: {0:0.4f}'. format(accuracy_score(y_test, y_pred_LR)))"
   ]
  },
  {
   "cell_type": "markdown",
   "id": "55f72080",
   "metadata": {},
   "source": [
    "##### 4. Build another linear regression model (model_regression_2) with using the Gradient Descent as the optimisation function"
   ]
  },
  {
   "cell_type": "code",
   "execution_count": 460,
   "id": "be51bbb7",
   "metadata": {},
   "outputs": [],
   "source": [
    "# Data for inear regression model  Gradient Descent as the optimisation function\n",
    "X = df_en.drop(['rating_number','cuisine','groupon', 'cost_2'], axis=1)\n",
    "y = df_en['rating_number']"
   ]
  },
  {
   "cell_type": "code",
   "execution_count": 461,
   "id": "07b25df0",
   "metadata": {},
   "outputs": [],
   "source": [
    "# Create a class for the linear regression with the Gradient Descent as the cost function\n",
    "class GradientDescentLinearRegression:\n",
    "    def __init__(self, learning_rate, iterations = 1000):\n",
    "        self.learning_rate = learning_rate\n",
    "        self.iterations = iterations\n",
    "    \n",
    "    def fit(self, X, y, theta_0 = 0, theta_1 = 5):\n",
    "        # start the parameters with initial values\n",
    "        n = X.shape[0] # number of samples\n",
    "        for _ in range(self.iterations):\n",
    "            # compute gradients\n",
    "            theta_0_gradient = -2 * np.sum(y - theta_1 * X + theta_0) / n\n",
    "            theta_1_gradient = -2 * np.sum(X * (y - (theta_1 * X + theta_0))) / n\n",
    "            \n",
    "            # update\n",
    "            theta_0 = theta_0 + (self.learning_rate * theta_0_gradient)\n",
    "            theta_1 = theta_1 - (self.learning_rate * theta_1_gradient)\n",
    "        \n",
    "        self.theta_0 = theta_0\n",
    "        self.theta_1 = theta_1\n",
    "        \n",
    "    def predict(self, X):\n",
    "        return self.theta_1*X + self.theta_0"
   ]
  },
  {
   "cell_type": "code",
   "execution_count": null,
   "id": "6d134d66",
   "metadata": {},
   "outputs": [],
   "source": [
    "# train/fit a linear regression model to the data\n",
    "learning_rate = 0.001\n",
    "linear_model = GradientDescentLinearRegression(learning_rate)\n",
    "linear_model.fit(X_train, y_train)"
   ]
  },
  {
   "cell_type": "code",
   "execution_count": null,
   "id": "51ce16db",
   "metadata": {},
   "outputs": [],
   "source": [
    "# predict on the same training data\n",
    "y_pred_GDLR = linear_model.predict(X_test)\n",
    "\n",
    "# plot the predicted data with the trained linear model (i.e., line)\n",
    "plt.style.use('fivethirtyeight')\n",
    "plt.scatter(X_test, y_test, color='black')\n",
    "plt.plot(X_test, y_pred_GDLR)\n",
    "plt.gca().set_title(\"Gradient Descent Linear Regressor\")"
   ]
  },
  {
   "cell_type": "code",
   "execution_count": null,
   "id": "48250f02",
   "metadata": {},
   "outputs": [],
   "source": [
    "# print model parameters\n",
    "print(linear_model.theta_0)\n",
    "print(linear_model.theta_1)"
   ]
  },
  {
   "cell_type": "markdown",
   "id": "423ea106",
   "metadata": {},
   "source": [
    "##### 5. Report the mean square error (MSE) on the test data for both models."
   ]
  },
  {
   "cell_type": "code",
   "execution_count": null,
   "id": "b4d3521a",
   "metadata": {},
   "outputs": [],
   "source": [
    "from sklearn.metrics import mean_squared_error\n",
    "# Calculate the Mean Squared Error (MSE) between predicted and actual values for Regression model\n",
    "mse_LR = mean_squared_error(y_test, y_pred_LR)\n",
    "mse_LR\n",
    "mse_GDLR = mean_squared_error(y_test, y_pred_GDLR)\n",
    "mse_GDLR"
   ]
  },
  {
   "cell_type": "markdown",
   "id": "465e611e",
   "metadata": {},
   "source": [
    "#### III. Classification:"
   ]
  },
  {
   "cell_type": "markdown",
   "id": "b3b25da5",
   "metadata": {},
   "source": [
    "##### 6. Simplify the problem into binary classifications where class 1 contains ‘Poor’ and ‘Average’ records while class 2 contains ‘Good’, ‘Very Good’ and ‘Excellent’ records"
   ]
  },
  {
   "cell_type": "code",
   "execution_count": 462,
   "id": "062eb0e2",
   "metadata": {},
   "outputs": [],
   "source": [
    "# Define a mapping for the ratings\n",
    "rating_mapping = {\n",
    "    'Poor': 1,\n",
    "    'Average': 1,\n",
    "    'Good': 2,\n",
    "    'Very Good': 2,\n",
    "    'Excellent': 2\n",
    "}"
   ]
  },
  {
   "cell_type": "code",
   "execution_count": 463,
   "id": "7acd964b",
   "metadata": {},
   "outputs": [],
   "source": [
    "# Create a new column 'binary_rating' based on the mapping\n",
    "restaurant_df['binary_rating'] = restaurant_df['rating_text'].map(rating_mapping)"
   ]
  },
  {
   "cell_type": "code",
   "execution_count": 464,
   "id": "df4c8cc0",
   "metadata": {},
   "outputs": [
    {
     "data": {
      "text/html": [
       "<div>\n",
       "<style scoped>\n",
       "    .dataframe tbody tr th:only-of-type {\n",
       "        vertical-align: middle;\n",
       "    }\n",
       "\n",
       "    .dataframe tbody tr th {\n",
       "        vertical-align: top;\n",
       "    }\n",
       "\n",
       "    .dataframe thead th {\n",
       "        text-align: right;\n",
       "    }\n",
       "</style>\n",
       "<table border=\"1\" class=\"dataframe\">\n",
       "  <thead>\n",
       "    <tr style=\"text-align: right;\">\n",
       "      <th></th>\n",
       "      <th>cost</th>\n",
       "      <th>cuisine</th>\n",
       "      <th>rating_number</th>\n",
       "      <th>rating_text</th>\n",
       "      <th>subzone</th>\n",
       "      <th>title</th>\n",
       "      <th>type</th>\n",
       "      <th>votes</th>\n",
       "      <th>groupon</th>\n",
       "      <th>cost_2</th>\n",
       "      <th>binary_rating</th>\n",
       "    </tr>\n",
       "  </thead>\n",
       "  <tbody>\n",
       "    <tr>\n",
       "      <th>0</th>\n",
       "      <td>50.0</td>\n",
       "      <td>Hot Pot</td>\n",
       "      <td>4.0</td>\n",
       "      <td>Very Good</td>\n",
       "      <td>CBD</td>\n",
       "      <td>Sydney Madang</td>\n",
       "      <td>Casual Dining</td>\n",
       "      <td>377.0</td>\n",
       "      <td>False</td>\n",
       "      <td>5.243902</td>\n",
       "      <td>2</td>\n",
       "    </tr>\n",
       "    <tr>\n",
       "      <th>1</th>\n",
       "      <td>50.0</td>\n",
       "      <td>Korean BBQ</td>\n",
       "      <td>4.0</td>\n",
       "      <td>Very Good</td>\n",
       "      <td>CBD</td>\n",
       "      <td>Sydney Madang</td>\n",
       "      <td>Casual Dining</td>\n",
       "      <td>377.0</td>\n",
       "      <td>False</td>\n",
       "      <td>5.243902</td>\n",
       "      <td>2</td>\n",
       "    </tr>\n",
       "    <tr>\n",
       "      <th>2</th>\n",
       "      <td>50.0</td>\n",
       "      <td>BBQ</td>\n",
       "      <td>4.0</td>\n",
       "      <td>Very Good</td>\n",
       "      <td>CBD</td>\n",
       "      <td>Sydney Madang</td>\n",
       "      <td>Casual Dining</td>\n",
       "      <td>377.0</td>\n",
       "      <td>False</td>\n",
       "      <td>5.243902</td>\n",
       "      <td>2</td>\n",
       "    </tr>\n",
       "    <tr>\n",
       "      <th>3</th>\n",
       "      <td>50.0</td>\n",
       "      <td>Korean</td>\n",
       "      <td>4.0</td>\n",
       "      <td>Very Good</td>\n",
       "      <td>CBD</td>\n",
       "      <td>Sydney Madang</td>\n",
       "      <td>Casual Dining</td>\n",
       "      <td>377.0</td>\n",
       "      <td>False</td>\n",
       "      <td>5.243902</td>\n",
       "      <td>2</td>\n",
       "    </tr>\n",
       "    <tr>\n",
       "      <th>4</th>\n",
       "      <td>80.0</td>\n",
       "      <td>Cafe</td>\n",
       "      <td>4.6</td>\n",
       "      <td>Excellent</td>\n",
       "      <td>The Grounds of Alexandria, Alexandria</td>\n",
       "      <td>The Grounds of Alexandria Cafe</td>\n",
       "      <td>Café</td>\n",
       "      <td>377.0</td>\n",
       "      <td>False</td>\n",
       "      <td>7.560976</td>\n",
       "      <td>2</td>\n",
       "    </tr>\n",
       "    <tr>\n",
       "      <th>...</th>\n",
       "      <td>...</td>\n",
       "      <td>...</td>\n",
       "      <td>...</td>\n",
       "      <td>...</td>\n",
       "      <td>...</td>\n",
       "      <td>...</td>\n",
       "      <td>...</td>\n",
       "      <td>...</td>\n",
       "      <td>...</td>\n",
       "      <td>...</td>\n",
       "      <td>...</td>\n",
       "    </tr>\n",
       "    <tr>\n",
       "      <th>17176</th>\n",
       "      <td>65.0</td>\n",
       "      <td>Modern Australian</td>\n",
       "      <td>2.7</td>\n",
       "      <td>Average</td>\n",
       "      <td>Bankstown</td>\n",
       "      <td>Gardenia Motor Inn</td>\n",
       "      <td>Casual Dining</td>\n",
       "      <td>4.0</td>\n",
       "      <td>False</td>\n",
       "      <td>6.402439</td>\n",
       "      <td>1</td>\n",
       "    </tr>\n",
       "    <tr>\n",
       "      <th>18217</th>\n",
       "      <td>60.0</td>\n",
       "      <td>Pizza</td>\n",
       "      <td>2.7</td>\n",
       "      <td>Average</td>\n",
       "      <td>Chatswood Rsl</td>\n",
       "      <td>Shades on Victoria</td>\n",
       "      <td>Casual Dining</td>\n",
       "      <td>4.0</td>\n",
       "      <td>False</td>\n",
       "      <td>6.016260</td>\n",
       "      <td>1</td>\n",
       "    </tr>\n",
       "    <tr>\n",
       "      <th>18218</th>\n",
       "      <td>60.0</td>\n",
       "      <td>Pizza</td>\n",
       "      <td>2.7</td>\n",
       "      <td>Average</td>\n",
       "      <td>Chatswood Rsl</td>\n",
       "      <td>Shades on Victoria</td>\n",
       "      <td>Bar</td>\n",
       "      <td>4.0</td>\n",
       "      <td>False</td>\n",
       "      <td>6.016260</td>\n",
       "      <td>1</td>\n",
       "    </tr>\n",
       "    <tr>\n",
       "      <th>18219</th>\n",
       "      <td>60.0</td>\n",
       "      <td>Bar Food</td>\n",
       "      <td>2.7</td>\n",
       "      <td>Average</td>\n",
       "      <td>Chatswood Rsl</td>\n",
       "      <td>Shades on Victoria</td>\n",
       "      <td>Casual Dining</td>\n",
       "      <td>4.0</td>\n",
       "      <td>False</td>\n",
       "      <td>6.016260</td>\n",
       "      <td>1</td>\n",
       "    </tr>\n",
       "    <tr>\n",
       "      <th>18220</th>\n",
       "      <td>60.0</td>\n",
       "      <td>Bar Food</td>\n",
       "      <td>2.7</td>\n",
       "      <td>Average</td>\n",
       "      <td>Chatswood Rsl</td>\n",
       "      <td>Shades on Victoria</td>\n",
       "      <td>Bar</td>\n",
       "      <td>4.0</td>\n",
       "      <td>False</td>\n",
       "      <td>6.016260</td>\n",
       "      <td>1</td>\n",
       "    </tr>\n",
       "  </tbody>\n",
       "</table>\n",
       "<p>13240 rows × 11 columns</p>\n",
       "</div>"
      ],
      "text/plain": [
       "       cost            cuisine  rating_number rating_text  \\\n",
       "0      50.0            Hot Pot            4.0   Very Good   \n",
       "1      50.0         Korean BBQ            4.0   Very Good   \n",
       "2      50.0                BBQ            4.0   Very Good   \n",
       "3      50.0             Korean            4.0   Very Good   \n",
       "4      80.0               Cafe            4.6   Excellent   \n",
       "...     ...                ...            ...         ...   \n",
       "17176  65.0  Modern Australian            2.7     Average   \n",
       "18217  60.0              Pizza            2.7     Average   \n",
       "18218  60.0              Pizza            2.7     Average   \n",
       "18219  60.0           Bar Food            2.7     Average   \n",
       "18220  60.0           Bar Food            2.7     Average   \n",
       "\n",
       "                                     subzone                           title  \\\n",
       "0                                        CBD                   Sydney Madang   \n",
       "1                                        CBD                   Sydney Madang   \n",
       "2                                        CBD                   Sydney Madang   \n",
       "3                                        CBD                   Sydney Madang   \n",
       "4      The Grounds of Alexandria, Alexandria  The Grounds of Alexandria Cafe   \n",
       "...                                      ...                             ...   \n",
       "17176                              Bankstown              Gardenia Motor Inn   \n",
       "18217                          Chatswood Rsl              Shades on Victoria   \n",
       "18218                          Chatswood Rsl              Shades on Victoria   \n",
       "18219                          Chatswood Rsl              Shades on Victoria   \n",
       "18220                          Chatswood Rsl              Shades on Victoria   \n",
       "\n",
       "                type  votes  groupon    cost_2  binary_rating  \n",
       "0      Casual Dining  377.0    False  5.243902              2  \n",
       "1      Casual Dining  377.0    False  5.243902              2  \n",
       "2      Casual Dining  377.0    False  5.243902              2  \n",
       "3      Casual Dining  377.0    False  5.243902              2  \n",
       "4               Café  377.0    False  7.560976              2  \n",
       "...              ...    ...      ...       ...            ...  \n",
       "17176  Casual Dining    4.0    False  6.402439              1  \n",
       "18217  Casual Dining    4.0    False  6.016260              1  \n",
       "18218            Bar    4.0    False  6.016260              1  \n",
       "18219  Casual Dining    4.0    False  6.016260              1  \n",
       "18220            Bar    4.0    False  6.016260              1  \n",
       "\n",
       "[13240 rows x 11 columns]"
      ]
     },
     "execution_count": 464,
     "metadata": {},
     "output_type": "execute_result"
    }
   ],
   "source": [
    "restaurant_df"
   ]
  },
  {
   "cell_type": "markdown",
   "id": "a64a0a29",
   "metadata": {},
   "source": [
    "##### 7. Build a logistic regression model (model_classification_3) for the simplified data, where training data is 80% and the test data is 20%.\n",
    "[Hint: please use sklearn.model_selection.train_test_split and set random_state=0 “\n",
    "while splitting]"
   ]
  },
  {
   "cell_type": "code",
   "execution_count": 465,
   "id": "a01c6f5f",
   "metadata": {},
   "outputs": [],
   "source": [
    "#Encode the input Variables\n",
    "def Encode(restaurant_df):\n",
    "    for column in restaurant_df.columns[~restaurant_df.columns.isin(['cost', 'votes'])]:\n",
    "        restaurant_df[column] = restaurant_df[column].factorize()[0]\n",
    "    return restaurant_df\n",
    "\n",
    "df_en = Encode(restaurant_df.copy())"
   ]
  },
  {
   "cell_type": "code",
   "execution_count": 466,
   "id": "3dc8efd5",
   "metadata": {},
   "outputs": [],
   "source": [
    "X = df_en.drop(['binary_rating'], axis=1)\n",
    "y = df_en['binary_rating']"
   ]
  },
  {
   "cell_type": "code",
   "execution_count": 467,
   "id": "361f4305",
   "metadata": {},
   "outputs": [
    {
     "data": {
      "text/html": [
       "<div>\n",
       "<style scoped>\n",
       "    .dataframe tbody tr th:only-of-type {\n",
       "        vertical-align: middle;\n",
       "    }\n",
       "\n",
       "    .dataframe tbody tr th {\n",
       "        vertical-align: top;\n",
       "    }\n",
       "\n",
       "    .dataframe thead th {\n",
       "        text-align: right;\n",
       "    }\n",
       "</style>\n",
       "<table border=\"1\" class=\"dataframe\">\n",
       "  <thead>\n",
       "    <tr style=\"text-align: right;\">\n",
       "      <th></th>\n",
       "      <th>cost</th>\n",
       "      <th>cuisine</th>\n",
       "      <th>rating_number</th>\n",
       "      <th>rating_text</th>\n",
       "      <th>subzone</th>\n",
       "      <th>title</th>\n",
       "      <th>type</th>\n",
       "      <th>votes</th>\n",
       "      <th>groupon</th>\n",
       "      <th>cost_2</th>\n",
       "    </tr>\n",
       "  </thead>\n",
       "  <tbody>\n",
       "    <tr>\n",
       "      <th>0</th>\n",
       "      <td>50.0</td>\n",
       "      <td>0</td>\n",
       "      <td>0</td>\n",
       "      <td>0</td>\n",
       "      <td>0</td>\n",
       "      <td>0</td>\n",
       "      <td>0</td>\n",
       "      <td>377.0</td>\n",
       "      <td>0</td>\n",
       "      <td>0</td>\n",
       "    </tr>\n",
       "    <tr>\n",
       "      <th>1</th>\n",
       "      <td>50.0</td>\n",
       "      <td>1</td>\n",
       "      <td>0</td>\n",
       "      <td>0</td>\n",
       "      <td>0</td>\n",
       "      <td>0</td>\n",
       "      <td>0</td>\n",
       "      <td>377.0</td>\n",
       "      <td>0</td>\n",
       "      <td>0</td>\n",
       "    </tr>\n",
       "    <tr>\n",
       "      <th>2</th>\n",
       "      <td>50.0</td>\n",
       "      <td>2</td>\n",
       "      <td>0</td>\n",
       "      <td>0</td>\n",
       "      <td>0</td>\n",
       "      <td>0</td>\n",
       "      <td>0</td>\n",
       "      <td>377.0</td>\n",
       "      <td>0</td>\n",
       "      <td>0</td>\n",
       "    </tr>\n",
       "    <tr>\n",
       "      <th>3</th>\n",
       "      <td>50.0</td>\n",
       "      <td>3</td>\n",
       "      <td>0</td>\n",
       "      <td>0</td>\n",
       "      <td>0</td>\n",
       "      <td>0</td>\n",
       "      <td>0</td>\n",
       "      <td>377.0</td>\n",
       "      <td>0</td>\n",
       "      <td>0</td>\n",
       "    </tr>\n",
       "    <tr>\n",
       "      <th>4</th>\n",
       "      <td>80.0</td>\n",
       "      <td>4</td>\n",
       "      <td>1</td>\n",
       "      <td>1</td>\n",
       "      <td>1</td>\n",
       "      <td>1</td>\n",
       "      <td>1</td>\n",
       "      <td>377.0</td>\n",
       "      <td>0</td>\n",
       "      <td>1</td>\n",
       "    </tr>\n",
       "    <tr>\n",
       "      <th>...</th>\n",
       "      <td>...</td>\n",
       "      <td>...</td>\n",
       "      <td>...</td>\n",
       "      <td>...</td>\n",
       "      <td>...</td>\n",
       "      <td>...</td>\n",
       "      <td>...</td>\n",
       "      <td>...</td>\n",
       "      <td>...</td>\n",
       "      <td>...</td>\n",
       "    </tr>\n",
       "    <tr>\n",
       "      <th>17176</th>\n",
       "      <td>65.0</td>\n",
       "      <td>9</td>\n",
       "      <td>31</td>\n",
       "      <td>3</td>\n",
       "      <td>53</td>\n",
       "      <td>7150</td>\n",
       "      <td>0</td>\n",
       "      <td>4.0</td>\n",
       "      <td>0</td>\n",
       "      <td>23</td>\n",
       "    </tr>\n",
       "    <tr>\n",
       "      <th>18217</th>\n",
       "      <td>60.0</td>\n",
       "      <td>33</td>\n",
       "      <td>31</td>\n",
       "      <td>3</td>\n",
       "      <td>515</td>\n",
       "      <td>7151</td>\n",
       "      <td>0</td>\n",
       "      <td>4.0</td>\n",
       "      <td>0</td>\n",
       "      <td>10</td>\n",
       "    </tr>\n",
       "    <tr>\n",
       "      <th>18218</th>\n",
       "      <td>60.0</td>\n",
       "      <td>33</td>\n",
       "      <td>31</td>\n",
       "      <td>3</td>\n",
       "      <td>515</td>\n",
       "      <td>7151</td>\n",
       "      <td>3</td>\n",
       "      <td>4.0</td>\n",
       "      <td>0</td>\n",
       "      <td>10</td>\n",
       "    </tr>\n",
       "    <tr>\n",
       "      <th>18219</th>\n",
       "      <td>60.0</td>\n",
       "      <td>27</td>\n",
       "      <td>31</td>\n",
       "      <td>3</td>\n",
       "      <td>515</td>\n",
       "      <td>7151</td>\n",
       "      <td>0</td>\n",
       "      <td>4.0</td>\n",
       "      <td>0</td>\n",
       "      <td>10</td>\n",
       "    </tr>\n",
       "    <tr>\n",
       "      <th>18220</th>\n",
       "      <td>60.0</td>\n",
       "      <td>27</td>\n",
       "      <td>31</td>\n",
       "      <td>3</td>\n",
       "      <td>515</td>\n",
       "      <td>7151</td>\n",
       "      <td>3</td>\n",
       "      <td>4.0</td>\n",
       "      <td>0</td>\n",
       "      <td>10</td>\n",
       "    </tr>\n",
       "  </tbody>\n",
       "</table>\n",
       "<p>13240 rows × 10 columns</p>\n",
       "</div>"
      ],
      "text/plain": [
       "       cost  cuisine  rating_number  rating_text  subzone  title  type  votes  \\\n",
       "0      50.0        0              0            0        0      0     0  377.0   \n",
       "1      50.0        1              0            0        0      0     0  377.0   \n",
       "2      50.0        2              0            0        0      0     0  377.0   \n",
       "3      50.0        3              0            0        0      0     0  377.0   \n",
       "4      80.0        4              1            1        1      1     1  377.0   \n",
       "...     ...      ...            ...          ...      ...    ...   ...    ...   \n",
       "17176  65.0        9             31            3       53   7150     0    4.0   \n",
       "18217  60.0       33             31            3      515   7151     0    4.0   \n",
       "18218  60.0       33             31            3      515   7151     3    4.0   \n",
       "18219  60.0       27             31            3      515   7151     0    4.0   \n",
       "18220  60.0       27             31            3      515   7151     3    4.0   \n",
       "\n",
       "       groupon  cost_2  \n",
       "0            0       0  \n",
       "1            0       0  \n",
       "2            0       0  \n",
       "3            0       0  \n",
       "4            0       1  \n",
       "...        ...     ...  \n",
       "17176        0      23  \n",
       "18217        0      10  \n",
       "18218        0      10  \n",
       "18219        0      10  \n",
       "18220        0      10  \n",
       "\n",
       "[13240 rows x 10 columns]"
      ]
     },
     "execution_count": 467,
     "metadata": {},
     "output_type": "execute_result"
    }
   ],
   "source": [
    "X "
   ]
  },
  {
   "cell_type": "code",
   "execution_count": 468,
   "id": "a7ea7a78",
   "metadata": {},
   "outputs": [
    {
     "data": {
      "text/plain": [
       "0        0\n",
       "1        0\n",
       "2        0\n",
       "3        0\n",
       "4        0\n",
       "        ..\n",
       "17176    1\n",
       "18217    1\n",
       "18218    1\n",
       "18219    1\n",
       "18220    1\n",
       "Name: binary_rating, Length: 13240, dtype: int64"
      ]
     },
     "execution_count": 468,
     "metadata": {},
     "output_type": "execute_result"
    }
   ],
   "source": [
    "y"
   ]
  },
  {
   "cell_type": "code",
   "execution_count": 469,
   "id": "e6b827a2",
   "metadata": {},
   "outputs": [
    {
     "name": "stdout",
     "output_type": "stream",
     "text": [
      "(10592, 10) (10592,)\n",
      "(2648, 10) (2648,)\n"
     ]
    }
   ],
   "source": [
    "# split X and y into training and testing sets\n",
    "test_size = 0.2\n",
    "X_train, X_test, y_train, y_test = train_test_split(X, y, test_size = test_size, random_state=0)\n",
    "\n",
    "print(X_train.shape, y_train.shape)\n",
    "print(X_test.shape, y_test.shape)"
   ]
  },
  {
   "cell_type": "code",
   "execution_count": 470,
   "id": "f7af9f76",
   "metadata": {},
   "outputs": [
    {
     "data": {
      "text/html": [
       "<style>#sk-container-id-9 {color: black;}#sk-container-id-9 pre{padding: 0;}#sk-container-id-9 div.sk-toggleable {background-color: white;}#sk-container-id-9 label.sk-toggleable__label {cursor: pointer;display: block;width: 100%;margin-bottom: 0;padding: 0.3em;box-sizing: border-box;text-align: center;}#sk-container-id-9 label.sk-toggleable__label-arrow:before {content: \"▸\";float: left;margin-right: 0.25em;color: #696969;}#sk-container-id-9 label.sk-toggleable__label-arrow:hover:before {color: black;}#sk-container-id-9 div.sk-estimator:hover label.sk-toggleable__label-arrow:before {color: black;}#sk-container-id-9 div.sk-toggleable__content {max-height: 0;max-width: 0;overflow: hidden;text-align: left;background-color: #f0f8ff;}#sk-container-id-9 div.sk-toggleable__content pre {margin: 0.2em;color: black;border-radius: 0.25em;background-color: #f0f8ff;}#sk-container-id-9 input.sk-toggleable__control:checked~div.sk-toggleable__content {max-height: 200px;max-width: 100%;overflow: auto;}#sk-container-id-9 input.sk-toggleable__control:checked~label.sk-toggleable__label-arrow:before {content: \"▾\";}#sk-container-id-9 div.sk-estimator input.sk-toggleable__control:checked~label.sk-toggleable__label {background-color: #d4ebff;}#sk-container-id-9 div.sk-label input.sk-toggleable__control:checked~label.sk-toggleable__label {background-color: #d4ebff;}#sk-container-id-9 input.sk-hidden--visually {border: 0;clip: rect(1px 1px 1px 1px);clip: rect(1px, 1px, 1px, 1px);height: 1px;margin: -1px;overflow: hidden;padding: 0;position: absolute;width: 1px;}#sk-container-id-9 div.sk-estimator {font-family: monospace;background-color: #f0f8ff;border: 1px dotted black;border-radius: 0.25em;box-sizing: border-box;margin-bottom: 0.5em;}#sk-container-id-9 div.sk-estimator:hover {background-color: #d4ebff;}#sk-container-id-9 div.sk-parallel-item::after {content: \"\";width: 100%;border-bottom: 1px solid gray;flex-grow: 1;}#sk-container-id-9 div.sk-label:hover label.sk-toggleable__label {background-color: #d4ebff;}#sk-container-id-9 div.sk-serial::before {content: \"\";position: absolute;border-left: 1px solid gray;box-sizing: border-box;top: 0;bottom: 0;left: 50%;z-index: 0;}#sk-container-id-9 div.sk-serial {display: flex;flex-direction: column;align-items: center;background-color: white;padding-right: 0.2em;padding-left: 0.2em;position: relative;}#sk-container-id-9 div.sk-item {position: relative;z-index: 1;}#sk-container-id-9 div.sk-parallel {display: flex;align-items: stretch;justify-content: center;background-color: white;position: relative;}#sk-container-id-9 div.sk-item::before, #sk-container-id-9 div.sk-parallel-item::before {content: \"\";position: absolute;border-left: 1px solid gray;box-sizing: border-box;top: 0;bottom: 0;left: 50%;z-index: -1;}#sk-container-id-9 div.sk-parallel-item {display: flex;flex-direction: column;z-index: 1;position: relative;background-color: white;}#sk-container-id-9 div.sk-parallel-item:first-child::after {align-self: flex-end;width: 50%;}#sk-container-id-9 div.sk-parallel-item:last-child::after {align-self: flex-start;width: 50%;}#sk-container-id-9 div.sk-parallel-item:only-child::after {width: 0;}#sk-container-id-9 div.sk-dashed-wrapped {border: 1px dashed gray;margin: 0 0.4em 0.5em 0.4em;box-sizing: border-box;padding-bottom: 0.4em;background-color: white;}#sk-container-id-9 div.sk-label label {font-family: monospace;font-weight: bold;display: inline-block;line-height: 1.2em;}#sk-container-id-9 div.sk-label-container {text-align: center;}#sk-container-id-9 div.sk-container {/* jupyter's `normalize.less` sets `[hidden] { display: none; }` but bootstrap.min.css set `[hidden] { display: none !important; }` so we also need the `!important` here to be able to override the default hidden behavior on the sphinx rendered scikit-learn.org. See: https://github.com/scikit-learn/scikit-learn/issues/21755 */display: inline-block !important;position: relative;}#sk-container-id-9 div.sk-text-repr-fallback {display: none;}</style><div id=\"sk-container-id-9\" class=\"sk-top-container\"><div class=\"sk-text-repr-fallback\"><pre>LogisticRegression(random_state=0, solver=&#x27;liblinear&#x27;)</pre><b>In a Jupyter environment, please rerun this cell to show the HTML representation or trust the notebook. <br />On GitHub, the HTML representation is unable to render, please try loading this page with nbviewer.org.</b></div><div class=\"sk-container\" hidden><div class=\"sk-item\"><div class=\"sk-estimator sk-toggleable\"><input class=\"sk-toggleable__control sk-hidden--visually\" id=\"sk-estimator-id-9\" type=\"checkbox\" checked><label for=\"sk-estimator-id-9\" class=\"sk-toggleable__label sk-toggleable__label-arrow\">LogisticRegression</label><div class=\"sk-toggleable__content\"><pre>LogisticRegression(random_state=0, solver=&#x27;liblinear&#x27;)</pre></div></div></div></div></div>"
      ],
      "text/plain": [
       "LogisticRegression(random_state=0, solver='liblinear')"
      ]
     },
     "execution_count": 470,
     "metadata": {},
     "output_type": "execute_result"
    }
   ],
   "source": [
    "# instantiate the model\n",
    "model_classification_3 = LogisticRegression(solver='liblinear', random_state=0)\n",
    "\n",
    "\n",
    "# fit the model\n",
    "model_classification_3.fit(X_train, y_train)"
   ]
  },
  {
   "cell_type": "code",
   "execution_count": 471,
   "id": "366a53d5",
   "metadata": {},
   "outputs": [],
   "source": [
    "# Make predictions on the test data\n",
    "y_pred_3 = model_classification_3.predict(X_test)"
   ]
  },
  {
   "cell_type": "code",
   "execution_count": 472,
   "id": "d3eca72c",
   "metadata": {},
   "outputs": [
    {
     "name": "stdout",
     "output_type": "stream",
     "text": [
      "Accuracy: 0.9996223564954683\n",
      "Classification Report:\n",
      "               precision    recall  f1-score   support\n",
      "\n",
      "           0       1.00      1.00      1.00       966\n",
      "           1       1.00      1.00      1.00      1682\n",
      "\n",
      "    accuracy                           1.00      2648\n",
      "   macro avg       1.00      1.00      1.00      2648\n",
      "weighted avg       1.00      1.00      1.00      2648\n",
      "\n"
     ]
    }
   ],
   "source": [
    "# Evaluate the model's performance\n",
    "from sklearn.metrics import accuracy_score, classification_report\n",
    "accuracy = accuracy_score(y_test, y_pred_3)\n",
    "classification_rep = classification_report(y_test, y_pred_3)\n",
    "\n",
    "print(\"Accuracy:\", accuracy)\n",
    "print(\"Classification Report:\\n\", classification_rep)"
   ]
  },
  {
   "cell_type": "markdown",
   "id": "c5721dee",
   "metadata": {},
   "source": [
    "##### 8. Use the confusion matrix to report the results of using the classification model on the test data."
   ]
  },
  {
   "cell_type": "code",
   "execution_count": 473,
   "id": "2538b197",
   "metadata": {},
   "outputs": [
    {
     "name": "stdout",
     "output_type": "stream",
     "text": [
      "Confusion matrix\n",
      "\n",
      " [[ 966    0]\n",
      " [   1 1681]]\n",
      "\n",
      "True Positives(TP) =  966\n",
      "\n",
      "True Negatives(TN) =  1681\n",
      "\n",
      "False Positives(FP) =  0\n",
      "\n",
      "False Negatives(FN) =  1\n"
     ]
    }
   ],
   "source": [
    "# Print the Confusion Matrix and slice it into four pieces\n",
    "\n",
    "from sklearn.metrics import confusion_matrix\n",
    "\n",
    "cm = confusion_matrix(y_test, y_pred_3)\n",
    "\n",
    "print('Confusion matrix\\n\\n', cm)\n",
    "\n",
    "print('\\nTrue Positives(TP) = ', cm[0,0])\n",
    "\n",
    "print('\\nTrue Negatives(TN) = ', cm[1,1])\n",
    "\n",
    "print('\\nFalse Positives(FP) = ', cm[0,1])\n",
    "\n",
    "print('\\nFalse Negatives(FN) = ', cm[1,0])"
   ]
  },
  {
   "cell_type": "markdown",
   "id": "344d182d",
   "metadata": {},
   "source": [
    "##### 9. Draw your conclusions and observations about the performance of the model relevant to the classes’ distributions."
   ]
  },
  {
   "cell_type": "code",
   "execution_count": 474,
   "id": "139d20d7",
   "metadata": {},
   "outputs": [
    {
     "data": {
      "text/plain": [
       "<Axes: >"
      ]
     },
     "execution_count": 474,
     "metadata": {},
     "output_type": "execute_result"
    },
    {
     "data": {
      "image/png": "[encoded data removed]",
      "text/plain": [
       "<Figure size 640x480 with 2 Axes>"
      ]
     },
     "metadata": {},
     "output_type": "display_data"
    }
   ],
   "source": [
    "# visualize confusion matrix with seaborn heatmap\n",
    "\n",
    "cm_matrix = pd.DataFrame(data=cm, columns=['Actual Positive:1', 'Actual Negative:0'], \n",
    "                                 index=['Predict Positive:1', 'Predict Negative:0'])\n",
    "\n",
    "sns.heatmap(cm_matrix, annot=True, fmt='d', cmap='YlGnBu')"
   ]
  },
  {
   "cell_type": "code",
   "execution_count": 475,
   "id": "33d7838f",
   "metadata": {},
   "outputs": [
    {
     "data": {
      "text/plain": [
       "<Axes: >"
      ]
     },
     "execution_count": 475,
     "metadata": {},
     "output_type": "execute_result"
    },
    {
     "data": {
      "image/png": "[encoded data removed]",
      "text/plain": [
       "<Figure size 640x480 with 2 Axes>"
      ]
     },
     "metadata": {},
     "output_type": "display_data"
    }
   ],
   "source": [
    "cm_normalised = cm.astype('float32') / cm.sum(axis=1)[:, np.newaxis]\n",
    "\n",
    "# visualize confusion matrix with seaborn heatmap\n",
    "cm_matrix = pd.DataFrame(data=cm_normalised, columns=['Actual Positive:1', 'Actual Negative:0'], \n",
    "                                 index=['Predict Positive:1', 'Predict Negative:0'])\n",
    "\n",
    "sns.heatmap(cm_matrix, annot=True, fmt='.2f', cmap='YlGnBu')"
   ]
  },
  {
   "cell_type": "code",
   "execution_count": 476,
   "id": "75ff7f59",
   "metadata": {},
   "outputs": [
    {
     "name": "stdout",
     "output_type": "stream",
     "text": [
      "              precision    recall  f1-score   support\n",
      "\n",
      "           0       1.00      1.00      1.00       966\n",
      "           1       1.00      1.00      1.00      1682\n",
      "\n",
      "    accuracy                           1.00      2648\n",
      "   macro avg       1.00      1.00      1.00      2648\n",
      "weighted avg       1.00      1.00      1.00      2648\n",
      "\n"
     ]
    }
   ],
   "source": [
    "from sklearn.metrics import classification_report\n",
    "\n",
    "print(classification_report(y_test, y_pred_3))"
   ]
  },
  {
   "cell_type": "markdown",
   "id": "e879d1dc",
   "metadata": {},
   "source": [
    "##### Bonus: Repeat the previous classification task using three other models of your choice and report the performance."
   ]
  },
  {
   "cell_type": "markdown",
   "id": "8844a7b4",
   "metadata": {},
   "source": [
    "##### Decision Tree Regression"
   ]
  },
  {
   "cell_type": "code",
   "execution_count": 477,
   "id": "c472685d",
   "metadata": {},
   "outputs": [
    {
     "name": "stdout",
     "output_type": "stream",
     "text": [
      "Model accuracy score: 1.0000\n",
      "Classification Report:\n",
      "               precision    recall  f1-score   support\n",
      "\n",
      "           0       1.00      1.00      1.00       966\n",
      "           1       1.00      1.00      1.00      1682\n",
      "\n",
      "    accuracy                           1.00      2648\n",
      "   macro avg       1.00      1.00      1.00      2648\n",
      "weighted avg       1.00      1.00      1.00      2648\n",
      "\n"
     ]
    }
   ],
   "source": [
    "# Decision Tree Regression model\n",
    "# Import package\n",
    "from sklearn.tree import DecisionTreeRegressor\n",
    "\n",
    "# Build model\n",
    "model_DecisionTree = DecisionTreeRegressor(min_samples_leaf=.0001)\n",
    "\n",
    "# Fit model on train data\n",
    "model_DecisionTree.fit(X_train,y_train)\n",
    "\n",
    "# Predict test data\n",
    "y_pred_DT = model_DecisionTree.predict(X_test)\n",
    "\n",
    "# Print accuracy score\n",
    "print('Model accuracy score: {0:0.4f}'. format(accuracy_score(y_test, y_pred_DT)))\n",
    "print(\"Classification Report:\\n\", classification_report(y_test, y_pred_3))"
   ]
  },
  {
   "cell_type": "markdown",
   "id": "9a27a940",
   "metadata": {},
   "source": [
    "##### Gaussian Naive Bayes (GaussianNB)"
   ]
  },
  {
   "cell_type": "code",
   "execution_count": 478,
   "id": "5872175e",
   "metadata": {},
   "outputs": [
    {
     "name": "stdout",
     "output_type": "stream",
     "text": [
      "Model accuracy score: 0.9796\n",
      "Classification Report:\n",
      "               precision    recall  f1-score   support\n",
      "\n",
      "           0       0.95      1.00      0.97       966\n",
      "           1       1.00      0.97      0.98      1682\n",
      "\n",
      "    accuracy                           0.98      2648\n",
      "   macro avg       0.97      0.98      0.98      2648\n",
      "weighted avg       0.98      0.98      0.98      2648\n",
      "\n"
     ]
    }
   ],
   "source": [
    "# Import package\n",
    "from sklearn.naive_bayes import GaussianNB\n",
    "# Build model\n",
    "model_GNB = GaussianNB()\n",
    "\n",
    "# Fit model on train data\n",
    "model_GNB.fit(X_train, y_train)\n",
    "\n",
    "# Predict test data\n",
    "y_pred_GNB = model_GNB.predict(X_test)\n",
    "\n",
    "# Print accuracy score\n",
    "print('Model accuracy score: {0:0.4f}'. format(accuracy_score(y_test, y_pred_GNB)))\n",
    "print(\"Classification Report:\\n\", classification_report(y_test, y_pred_GNB))"
   ]
  },
  {
   "cell_type": "markdown",
   "id": "d0cde7d1",
   "metadata": {},
   "source": [
    "##### MLPClassifier"
   ]
  },
  {
   "cell_type": "code",
   "execution_count": 479,
   "id": "fc6ec6c4",
   "metadata": {},
   "outputs": [
    {
     "name": "stdout",
     "output_type": "stream",
     "text": [
      "Model accuracy score: 0.9316\n",
      "Classification Report:\n",
      "               precision    recall  f1-score   support\n",
      "\n",
      "           0       0.99      0.83      0.90       966\n",
      "           1       0.91      0.99      0.95      1682\n",
      "\n",
      "    accuracy                           0.93      2648\n",
      "   macro avg       0.95      0.91      0.92      2648\n",
      "weighted avg       0.94      0.93      0.93      2648\n",
      "\n"
     ]
    }
   ],
   "source": [
    "# Import package\n",
    "from sklearn.neural_network import MLPClassifier\n",
    "\n",
    "# Build model\n",
    "model_MLP = MLPClassifier(random_state=1, max_iter=500)\n",
    "\n",
    "# Fit model on train data\n",
    "model_MLP.fit(X_train, y_train)\n",
    "\n",
    "# Predict test data\n",
    "y_pred_MLP = model_MLP.predict(X_test)\n",
    "\n",
    "# Print accuracy score\n",
    "print('Model accuracy score: {0:0.4f}'. format(accuracy_score(y_test, y_pred_MLP)))\n",
    "print(\"Classification Report:\\n\", classification_report(y_test, y_pred_MLP))"
   ]
  },
  {
   "cell_type": "code",
   "execution_count": 484,
   "id": "402e6d0c",
   "metadata": {},
   "outputs": [
    {
     "data": {
      "text/plain": [
       "['model_classification_3.pkl']"
      ]
     },
     "execution_count": 484,
     "metadata": {},
     "output_type": "execute_result"
    }
   ],
   "source": [
    "import joblib\n",
    "# Save trained model\n",
    "joblib.dump(model_LR, 'model_LR.pkl')\n",
    "# joblib.dump(model_GDLR, 'model_GDLR.pkl')\n",
    "joblib.dump(model_DecisionTree, 'model_DecisionTree.pkl')\n",
    "joblib.dump(model_GNB, 'model_GNB.pkl')\n",
    "joblib.dump(model_MLP, 'model_MLP.pkl')\n",
    "joblib.dump(model_classification_3, 'model_classification_3.pkl')"
   ]
  },
  {
   "cell_type": "code",
   "execution_count": null,
   "id": "10fb905f",
   "metadata": {},
   "outputs": [],
   "source": []
  }
 ],
 "metadata": {
  "kernelspec": {
   "display_name": "Python 3 (ipykernel)",
   "language": "python",
   "name": "python3"
  },
  "language_info": {
   "codemirror_mode": {
    "name": "ipython",
    "version": 3
   },
   "file_extension": ".py",
   "mimetype": "text/x-python",
   "name": "python",
   "nbconvert_exporter": "python",
   "pygments_lexer": "ipython3",
   "version": "3.11.4"
  }
 },
 "nbformat": 4,
 "nbformat_minor": 5
}
